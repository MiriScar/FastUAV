{
 "cells": [
  {
   "cell_type": "markdown",
   "metadata": {},
   "source": [
    "# FAST-UAV - Multirotor Design Optimization with Off-The-Shelf components"
   ]
  },
  {
   "cell_type": "markdown",
   "metadata": {},
   "source": [
    "In this notebook, we will see how to achieve a design optimization using real off-the-shelf components instead of estimation models."
   ]
  },
  {
   "cell_type": "markdown",
   "metadata": {},
   "source": [
    "## 1. Setting up a problem with off-the-shelf components"
   ]
  },
  {
   "cell_type": "code",
   "execution_count": 1,
   "metadata": {},
   "outputs": [
    {
     "name": "stderr",
     "output_type": "stream",
     "text": [
      "C:\\Users\\fastuav\\AppData\\Local\\Temp\\ipykernel_4604\\2301580219.py:26: DeprecationWarning: Importing display from IPython.core.display is deprecated since IPython 7.14, please import from IPython display\n",
      "  from IPython.core.display import display, HTML\n"
     ]
    },
    {
     "data": {
      "text/html": [
       "<style>.container { width:95% !important; }</style>"
      ],
      "text/plain": [
       "<IPython.core.display.HTML object>"
      ]
     },
     "metadata": {},
     "output_type": "display_data"
    }
   ],
   "source": [
    "import os.path as pth\n",
    "import openmdao.api as om\n",
    "import logging\n",
    "import shutil\n",
    "import fastoad.api as oad\n",
    "from time import time\n",
    "import matplotlib.pyplot as plt\n",
    "import cma\n",
    "from fastuav.utils.drivers.cmaes_driver import CMAESDriver\n",
    "from fastuav.utils.postprocessing.analysis_and_plots import *\n",
    "\n",
    "plt.rcParams[\"figure.figsize\"] = 16, 8\n",
    "plt.rcParams.update({\"font.size\": 13})\n",
    "\n",
    "DATA_FOLDER_PATH = \"../data\"\n",
    "CONFIGURATIONS_FOLDER_PATH = \"../configurations\"\n",
    "WORK_FOLDER_PATH = \"./workdir\"\n",
    "\n",
    "CONFIGURATION_FILE = pth.join(WORK_FOLDER_PATH, \"multirotor_mdo_cots.yaml\")\n",
    "SOURCE_FILE = pth.join(DATA_FOLDER_PATH, \"problem_outputs_DJI_M600_mdo.xml\")\n",
    "\n",
    "# For having log messages display on screen\n",
    "logging.basicConfig(level=logging.INFO, format=\"%(levelname)-8s: %(message)s\")\n",
    "\n",
    "# For using all screen width\n",
    "from IPython.core.display import display, HTML\n",
    "\n",
    "display(HTML(\"<style>.container { width:95% !important; }</style>\"))"
   ]
  },
  {
   "cell_type": "code",
   "execution_count": 2,
   "metadata": {},
   "outputs": [
    {
     "name": "stderr",
     "output_type": "stream",
     "text": [
      "INFO    : Loading FAST-OAD plugin uav\n",
      "INFO    : Loading bundles from fastuav.models\n",
      "INFO    : Installed bundle fastuav.models.geometry.geometry_multirotor (ID 18 )\n",
      "INFO    : Installed bundle fastuav.models.structures.wing.estimation_models (ID 104 )\n",
      "INFO    : Installed bundle fastuav.models.stability.static_longitudinal.neutral_point (ID 94 )\n",
      "INFO    : Installed bundle fastuav.models.structures.wing.wing (ID 106 )\n",
      "INFO    : Installed bundle fastuav.models.geometry.__init__ (ID 19 )\n",
      "INFO    : Installed bundle fastuav.models.structures.wing.structural_analysis (ID 105 )\n",
      "INFO    : Installed bundle fastuav.models.propulsion.motor.definition_parameters (ID 56 )\n",
      "INFO    : Installed bundle fastuav.models.stability.static_longitudinal.static_margin (ID 95 )\n",
      "INFO    : Installed bundle fastuav.models.structures.wing.__init__ (ID 107 )\n",
      "INFO    : Installed bundle fastuav.models.propulsion.motor.motor (ID 58 )\n",
      "INFO    : Installed bundle fastuav.models.propulsion.propeller.estimation_models (ID 66 )\n",
      "INFO    : Installed bundle fastuav.models.structures.fuselage (ID 98 )\n",
      "INFO    : Installed bundle fastuav.models.add_ons.sample_discipline (ID 10 )\n",
      "INFO    : Installed bundle fastuav.models.mtow.mtow (ID 20 )\n",
      "INFO    : Installed bundle fastuav.models.propulsion.propeller.propeller (ID 68 )\n",
      "INFO    : Installed bundle fastuav.models.stability.static_longitudinal.__init__ (ID 96 )\n",
      "INFO    : Installed bundle fastuav.models.structures.__init__ (ID 108 )\n",
      "INFO    : Installed bundle fastuav.models.add_ons.__init__ (ID 11 )\n",
      "INFO    : Installed bundle fastuav.models.performance.mission.mission_builder (ID 26 )\n",
      "INFO    : Installed bundle fastuav.models.propulsion.propeller.performance_analysis (ID 67 )\n",
      "INFO    : Installed bundle fastuav.models.mtow.mtow_fixedwing (ID 21 )\n",
      "INFO    : Installed bundle fastuav.models.propulsion.propeller.__init__ (ID 69 )\n",
      "INFO    : Installed bundle fastuav.models.stability.__init__ (ID 97 )\n",
      "INFO    : Installed bundle fastuav.models.performance.mission.mission_definition.resources.__init__ (ID 27 )\n",
      "INFO    : Installed bundle fastuav.models.propulsion.propulsion (ID 70 )\n",
      "INFO    : Installed bundle fastuav.models.mtow.mtow_hybrid (ID 22 )\n",
      "INFO    : Installed bundle fastuav.models.performance.mission.mission_definition.tests.test_schema (ID 29 )\n",
      "INFO    : Installed bundle fastuav.models.mtow.mtow_multirotor (ID 23 )\n",
      "INFO    : Installed bundle fastuav.models.performance.mission.mission_definition.schema (ID 28 )\n",
      "INFO    : Installed bundle fastuav.models.propulsion.energy.battery.battery (ID 37 )\n",
      "INFO    : Installed bundle fastuav.models.propulsion.propeller.catalogue (ID 63 )\n",
      "INFO    : Installed bundle fastuav.models.propulsion.propulsion_hybrid (ID 72 )\n",
      "INFO    : Installed bundle fastuav.models.propulsion.propulsion_fixedwing (ID 71 )\n",
      "INFO    : Installed bundle fastuav.models.wires.wires (ID 109 )\n",
      "INFO    : Installed bundle fastuav.models.mtow.__init__ (ID 24 )\n",
      "INFO    : Installed bundle fastuav.models.propulsion.esc.esc (ID 48 )\n",
      "INFO    : Installed bundle fastuav.models.propulsion.energy.battery.catalogue (ID 38 )\n",
      "INFO    : Installed bundle fastuav.models.propulsion.__init__ (ID 74 )\n",
      "INFO    : Installed bundle fastuav.models.propulsion.propulsion_multirotor (ID 73 )\n",
      "INFO    : Installed bundle fastuav.models.wires.wires_fixedwing (ID 110 )\n",
      "INFO    : Installed bundle fastuav.models.aerodynamics.aerodynamics_fixedwing (ID 12 )\n",
      "INFO    : Installed bundle fastuav.models.propulsion.energy.battery.constraints (ID 39 )\n",
      "INFO    : Installed bundle fastuav.models.propulsion.esc.constraints (ID 46 )\n",
      "INFO    : Installed bundle fastuav.models.scenarios.scenarios_fixedwing (ID 75 )\n",
      "INFO    : Installed bundle fastuav.models.performance.mission.mission_definition.tests.__init__ (ID 30 )\n",
      "INFO    : Installed bundle fastuav.models.propulsion.energy.battery.definition_parameters (ID 40 )\n",
      "INFO    : Installed bundle fastuav.models.propulsion.esc.catalogue (ID 45 )\n",
      "INFO    : Installed bundle fastuav.models.propulsion.propeller.constraints (ID 64 )\n",
      "INFO    : Installed bundle fastuav.models.wires.wires_hybrid (ID 111 )\n",
      "INFO    : Installed bundle fastuav.models.wires.wires_multirotor (ID 112 )\n",
      "INFO    : Installed bundle fastuav.models.aerodynamics.aerodynamics_hybrid (ID 13 )\n",
      "INFO    : Installed bundle fastuav.models.performance.mission.mission_definition.__init__ (ID 31 )\n",
      "INFO    : Installed bundle fastuav.models.__init__ (ID 114 )\n",
      "INFO    : Installed bundle fastuav.models.aerodynamics.__init__ (ID 15 )\n",
      "INFO    : Installed bundle fastuav.models.propulsion.energy.battery.estimation_models (ID 41 )\n",
      "INFO    : Installed bundle fastuav.models.propulsion.esc.definition_parameters (ID 47 )\n",
      "INFO    : Installed bundle fastuav.models.propulsion.motor.estimation_models (ID 57 )\n",
      "INFO    : Installed bundle fastuav.models.wires.__init__ (ID 113 )\n",
      "INFO    : Installed bundle fastuav.models.aerodynamics.aerodynamics_multirotor (ID 14 )\n",
      "INFO    : Installed bundle fastuav.models.performance.mission.flight_performance (ID 25 )\n",
      "INFO    : Installed bundle fastuav.models.propulsion.energy.battery.performance_analysis (ID 42 )\n",
      "INFO    : Installed bundle fastuav.models.propulsion.motor.__init__ (ID 60 )\n",
      "INFO    : Installed bundle fastuav.models.performance.mission.phase_builder (ID 32 )\n",
      "INFO    : Installed bundle fastuav.models.propulsion.energy.__init__ (ID 44 )\n",
      "INFO    : Installed bundle fastuav.models.performance.mission.__init__ (ID 34 )\n",
      "INFO    : Installed bundle fastuav.models.propulsion.motor.performance_analysis (ID 59 )\n",
      "INFO    : Installed bundle fastuav.models.performance.mission.route_builder (ID 33 )\n",
      "INFO    : Installed bundle fastuav.models.propulsion.energy.battery.__init__ (ID 43 )\n",
      "INFO    : Installed bundle fastuav.models.performance.__init__ (ID 36 )\n",
      "INFO    : Installed bundle fastuav.models.propulsion.propeller.aerodynamics.surrogate_models (ID 61 )\n",
      "INFO    : Installed bundle fastuav.models.scenarios.scenarios_multirotor (ID 77 )\n",
      "INFO    : Installed bundle fastuav.models.propulsion.esc.estimation_models (ID 49 )\n",
      "INFO    : Installed bundle fastuav.models.scenarios.scenarios_hybrid (ID 76 )\n",
      "INFO    : Installed bundle fastuav.models.propulsion.esc.__init__ (ID 51 )\n",
      "INFO    : Installed bundle fastuav.models.scenarios.thrust.cruise (ID 79 )\n",
      "INFO    : Installed bundle fastuav.models.stability.stability_fixedwing (ID 87 )\n",
      "INFO    : Installed bundle fastuav.models.performance.range_and_endurance (ID 35 )\n",
      "INFO    : Installed bundle fastuav.models.propulsion.esc.performance_analysis (ID 50 )\n",
      "INFO    : Installed bundle fastuav.models.propulsion.motor.catalogue (ID 54 )\n",
      "INFO    : Installed bundle fastuav.models.propulsion.propeller.aerodynamics.__init__ (ID 62 )\n",
      "INFO    : Installed bundle fastuav.models.scenarios.thrust.climb (ID 78 )\n",
      "INFO    : Installed bundle fastuav.models.stability.stability_hybrid (ID 88 )\n",
      "INFO    : Installed bundle fastuav.models.scenarios.thrust.hover (ID 81 )\n",
      "INFO    : Installed bundle fastuav.models.geometry.geometry_fixedwing (ID 16 )\n",
      "INFO    : Installed bundle fastuav.models.propulsion.gearbox.gearbox (ID 52 )\n",
      "INFO    : Installed bundle fastuav.models.scenarios.thrust.flight_models (ID 80 )\n",
      "INFO    : Installed bundle fastuav.models.structures.structures_fixedwing (ID 99 )\n",
      "INFO    : Installed bundle fastuav.models.propulsion.motor.constraints (ID 55 )\n",
      "INFO    : Installed bundle fastuav.models.scenarios.thrust.takeoff (ID 82 )\n",
      "INFO    : Installed bundle fastuav.models.stability.static_longitudinal.center_of_gravity.cog (ID 89 )\n",
      "INFO    : Installed bundle fastuav.models.structures.structures_hybrid (ID 100 )\n",
      "INFO    : Installed bundle fastuav.models.propulsion.gearbox.__init__ (ID 53 )\n",
      "INFO    : Installed bundle fastuav.models.scenarios.thrust.__init__ (ID 83 )\n",
      "INFO    : Installed bundle fastuav.models.stability.static_longitudinal.center_of_gravity.components.cog_airframe (ID 90 )\n",
      "INFO    : Installed bundle fastuav.models.structures.tails (ID 102 )\n",
      "INFO    : Installed bundle fastuav.models.scenarios.wing_loading.__init__ (ID 85 )\n",
      "INFO    : Installed bundle fastuav.models.stability.static_longitudinal.center_of_gravity.components.cog_propulsion (ID 91 )\n",
      "INFO    : Installed bundle fastuav.models.structures.structures_multirotor (ID 101 )\n",
      "INFO    : Installed bundle fastuav.models.geometry.geometry_hybrid (ID 17 )\n"
     ]
    },
    {
     "name": "stderr",
     "output_type": "stream",
     "text": [
      "INFO    : Installed bundle fastuav.models.stability.static_longitudinal.center_of_gravity.components.__init__ (ID 92 )\n",
      "INFO    : Installed bundle fastuav.models.structures.wing.constraints (ID 103 )\n",
      "INFO    : Installed bundle fastuav.models.propulsion.propeller.definition_parameters (ID 65 )\n",
      "INFO    : Installed bundle fastuav.models.scenarios.wing_loading.wing_loading (ID 84 )\n",
      "INFO    : Installed bundle fastuav.models.stability.static_longitudinal.center_of_gravity.__init__ (ID 93 )\n",
      "INFO    : Installed bundle fastuav.models.scenarios.__init__ (ID 86 )\n",
      "INFO    : Loaded variable descriptions in fastuav.models\n",
      "INFO    : Loading FAST-OAD plugin bundled\n",
      "INFO    : Loading bundles from fastoad.models\n",
      "INFO    : Installed bundle fastoad.models.performances.mission.routes (ID 133 )\n",
      "INFO    : Installed bundle fastoad.models.performances.mission.segments.altitude_change (ID 134 )\n",
      "INFO    : Installed bundle fastoad.models.performances.mission.__init__ (ID 145 )\n",
      "INFO    : Installed bundle fastoad.models.performances.mission.mission_definition.mission_builder.mission_builder (ID 120 )\n",
      "INFO    : Installed bundle fastoad.models.performances.mission.segments.start (ID 140 )\n",
      "INFO    : Installed bundle fastoad.models.performances.mission.base (ID 115 )\n",
      "INFO    : Installed bundle fastoad.models.performances.mission.mission_definition.schema (ID 124 )\n",
      "INFO    : Installed bundle fastoad.models.performances.mission.segments.base (ID 135 )\n",
      "INFO    : Installed bundle fastoad.models.performances.__init__ (ID 146 )\n",
      "INFO    : Installed bundle fastoad.models.performances.mission.exceptions (ID 116 )\n",
      "INFO    : Installed bundle fastoad.models.__init__ (ID 147 )\n",
      "INFO    : Installed bundle fastoad.models.performances.mission.mission_definition.__init__ (ID 125 )\n",
      "INFO    : Installed bundle fastoad.models.performances.mission.mission_definition.mission_builder.input_definition (ID 119 )\n",
      "INFO    : Installed bundle fastoad.models.performances.mission.segments.cruise (ID 136 )\n",
      "INFO    : Installed bundle fastoad.models.performances.mission.mission_definition.mission_builder.structure_builders (ID 121 )\n",
      "INFO    : Installed bundle fastoad.models.performances.mission.openmdao.mission_component (ID 128 )\n",
      "INFO    : Installed bundle fastoad.models.performances.mission.mission_definition.mission_builder.constants (ID 118 )\n",
      "INFO    : Installed bundle fastoad.models.performances.mission.mission_definition.mission_builder.__init__ (ID 122 )\n",
      "INFO    : Installed bundle fastoad.models.performances.mission.segments.hold (ID 137 )\n",
      "INFO    : Installed bundle fastoad.models.performances.mission.mission_definition.resources.__init__ (ID 123 )\n",
      "INFO    : Installed bundle fastoad.models.performances.mission.openmdao.mission (ID 127 )\n",
      "INFO    : Installed bundle fastoad.models.performances.mission.openmdao.mission_wrapper (ID 129 )\n",
      "INFO    : Installed bundle fastoad.models.performances.mission.segments.mass_input (ID 138 )\n",
      "INFO    : Installed bundle fastoad.models.performances.mission.segments.taxi (ID 141 )\n",
      "INFO    : Installed bundle fastoad.models.performances.mission.openmdao.resources.__init__ (ID 130 )\n",
      "INFO    : Installed bundle fastoad.models.performances.mission.segments.transition (ID 142 )\n",
      "INFO    : Installed bundle fastoad.models.performances.mission.segments.speed_change (ID 139 )\n",
      "INFO    : Installed bundle fastoad.models.performances.mission.util (ID 144 )\n",
      "INFO    : Installed bundle fastoad.models.performances.mission.polar (ID 132 )\n",
      "INFO    : Installed bundle fastoad.models.performances.mission.segments.__init__ (ID 143 )\n",
      "INFO    : Installed bundle fastoad.models.performances.mission.openmdao.__init__ (ID 131 )\n",
      "INFO    : Installed bundle fastoad.models.performances.mission.openmdao.link_mtow (ID 126 )\n",
      "INFO    : Installed bundle fastoad.models.performances.mission.mission_definition.exceptions (ID 117 )\n",
      "INFO    : Loaded variable descriptions in fastoad.models\n",
      "INFO    : Sample configuration written in \"C:\\Users\\fastuav\\Documents\\FAST-UAV\\src\\fastuav\\notebooks\\workdir\\multirotor_mdo_cots.yaml\".\n"
     ]
    },
    {
     "data": {
      "text/plain": [
       "'C:\\\\Users\\\\fastuav\\\\Documents\\\\FAST-UAV\\\\src\\\\fastuav\\\\notebooks\\\\workdir\\\\multirotor_mdo_cots.yaml'"
      ]
     },
     "execution_count": 2,
     "metadata": {},
     "output_type": "execute_result"
    }
   ],
   "source": [
    "oad.generate_configuration_file(\n",
    "    CONFIGURATION_FILE, overwrite=True, distribution_name=\"fastuav\", sample_file_name=\"multirotor_mdo_cots.yaml\"\n",
    ")"
   ]
  },
  {
   "cell_type": "markdown",
   "metadata": {},
   "source": [
    "The changes in the model rely in the use of catalogues instead of continuous estimation models to select the components. This is described in the configuration file by the `off_the_shelf` option when defining the model:\n",
    "\n",
    "```yaml\n",
    "model:\n",
    "    scenarios:\n",
    "        id: fastuav.scenarios.multirotor\n",
    "    propulsion:\n",
    "        id: fastuav.propulsion.multirotor\n",
    "        off_the_shelf_propeller: True\n",
    "```\n",
    "\n",
    "You can check with the N2 diagram visualization that the `catalogue_selection` module has replaced the `skip_catalogue_selection` module for components where the option has been set to True."
   ]
  },
  {
   "cell_type": "code",
   "execution_count": 3,
   "metadata": {},
   "outputs": [
    {
     "name": "stderr",
     "output_type": "stream",
     "text": [
      "INFO    : N2 diagram written in C:\\Users\\fastuav\\Documents\\FAST-UAV\\src\\fastuav\\notebooks\\workdir\\n2.html\n"
     ]
    },
    {
     "data": {
      "text/html": [
       "\n",
       "        <iframe\n",
       "            width=\"100%\"\n",
       "            height=\"500px\"\n",
       "            src=\"./workdir\\n2.html\"\n",
       "            frameborder=\"0\"\n",
       "            allowfullscreen\n",
       "            \n",
       "        ></iframe>\n",
       "        "
      ],
      "text/plain": [
       "<IPython.lib.display.IFrame at 0x22a67551d00>"
      ]
     },
     "execution_count": 3,
     "metadata": {},
     "output_type": "execute_result"
    }
   ],
   "source": [
    "N2_FILE = pth.join(WORK_FOLDER_PATH, \"n2.html\")\n",
    "oad.write_n2(CONFIGURATION_FILE, N2_FILE, overwrite=True)\n",
    "from IPython.display import IFrame\n",
    "IFrame(src=N2_FILE, width=\"100%\", height=\"500px\")"
   ]
  },
  {
   "cell_type": "markdown",
   "metadata": {},
   "source": [
    "Now, the problem outputs from the design optimization in the continuous domain will be re-used as an initial guess for the optimization in the discrete domain."
   ]
  },
  {
   "cell_type": "code",
   "execution_count": 4,
   "metadata": {},
   "outputs": [
    {
     "name": "stderr",
     "output_type": "stream",
     "text": [
      "INFO    : Problem inputs written in C:\\Users\\fastuav\\Documents\\FAST-UAV\\src\\fastuav\\notebooks\\workdir\\problem_inputs.xml\n"
     ]
    },
    {
     "data": {
      "text/plain": [
       "'C:\\\\Users\\\\fastuav\\\\Documents\\\\FAST-UAV\\\\src\\\\fastuav\\\\notebooks\\\\workdir\\\\problem_inputs.xml'"
      ]
     },
     "execution_count": 4,
     "metadata": {},
     "output_type": "execute_result"
    }
   ],
   "source": [
    "oad.generate_inputs(CONFIGURATION_FILE, SOURCE_FILE, overwrite=True)"
   ]
  },
  {
   "cell_type": "code",
   "execution_count": 5,
   "metadata": {},
   "outputs": [
    {
     "data": {
      "application/vnd.jupyter.widget-view+json": {
       "model_id": "2a7772f8182b462db709697c8f47a07e",
       "version_major": 2,
       "version_minor": 0
      },
      "text/plain": [
       "VBox(children=(HBox(children=(Button(description='Load', icon='upload', style=ButtonStyle(), tooltip='Load the…"
      ]
     },
     "metadata": {},
     "output_type": "display_data"
    }
   ],
   "source": [
    "INPUT_FILE = pth.join(WORK_FOLDER_PATH, \"problem_inputs.xml\")\n",
    "oad.variable_viewer(INPUT_FILE)"
   ]
  },
  {
   "cell_type": "markdown",
   "metadata": {},
   "source": [
    "## 2. Multirotor MDO with off-the-shelf components\n",
    "\n",
    "Due to the non-continuous nature of the selection process, the use of a gradient-based algorithm is risky. We therefore recommend the use of an evolutionary algorithm, [CMA-ES](http://www.cmap.polytechnique.fr/~nikolaus.hansen/cmaesintro.html).\n",
    "\n",
    "### a) Using a gradient-based algorithm: SLSQP\n",
    "*Convergence not guaranteed.*"
   ]
  },
  {
   "cell_type": "code",
   "execution_count": 6,
   "metadata": {},
   "outputs": [
    {
     "name": "stdout",
     "output_type": "stream",
     "text": [
      "Iteration limit reached    (Exit mode 9)\n",
      "            Current function value: 1.6136565600592605\n",
      "            Iterations: 200\n",
      "            Function evaluations: 2151\n",
      "            Gradient evaluations: 200\n",
      "Optimization FAILED.\n",
      "Iteration limit reached\n",
      "-----------------------------------\n"
     ]
    },
    {
     "name": "stderr",
     "output_type": "stream",
     "text": [
      "ERROR   : Optimization failed after 45.96 seconds\n",
      "INFO    : Problem outputs written in C:\\Users\\fastuav\\Documents\\FAST-UAV\\src\\fastuav\\notebooks\\workdir\\problem_outputs.xml\n"
     ]
    }
   ],
   "source": [
    "optim_problem = oad.optimize_problem(CONFIGURATION_FILE, overwrite=True)"
   ]
  },
  {
   "cell_type": "markdown",
   "metadata": {},
   "source": [
    "### b) Using an evolutionnary strategy: CMA-ES\n",
    "The [pycma](https://github.com/CMA-ES/pycma) implementation of CMA-ES is used. The optimizer is wrapped with a modified version of the [OpenMDAO driver](https://github.com/OpenMDAO/RevHack2020/tree/master/problems/cma_es).<br>\n",
    "\n",
    "*Note that the use of custom-made drivers is not supported yet by FAST-OAD. Consequently, the setup and run of the problem is made by hand.*"
   ]
  },
  {
   "cell_type": "code",
   "execution_count": null,
   "metadata": {},
   "outputs": [
    {
     "name": "stdout",
     "output_type": "stream",
     "text": [
      "(5_w,11)-aCMA-ES (mu_w=3.4,w_1=42%) in dimension 12 (seed=811935, Fri Jun  2 14:36:41 2023)\n",
      "Iterat #Fevals   function value  axis ratio  sigma  min&max std  t[m:s]\n",
      "    1     11 4.622586673759857e+07 1.0e+00 9.11e-02  9e-02  9e-02 0:00.2\n",
      "    2     22 2.194053295303322e+07 1.1e+00 8.71e-02  8e-02  9e-02 0:00.3\n",
      "    3     33 2.905744362842295e+07 1.2e+00 8.03e-02  7e-02  8e-02 0:00.5\n",
      "   25    275 1.549301691942712e+07 3.0e+00 3.88e-02  2e-02  5e-02 0:03.5\n"
     ]
    }
   ],
   "source": [
    "# Get problem configuration\n",
    "conf = oad.FASTOADProblemConfigurator(CONFIGURATION_FILE)\n",
    "prob = conf.get_problem(read_inputs=True, auto_scaling=True)\n",
    "\n",
    "# CMA-ES Driver setup (see cma.CMAOptions() for all possible options for CMA-ES)\n",
    "driver = prob.driver = CMAESDriver()\n",
    "driver.options[\"sigma0\"] = 0.1\n",
    "driver.options[\n",
    "    \"penalty_parameter\"\n",
    "] = 1.0e8  # should be chosen such that f and the constraints violation have a similar magnitude.\n",
    "driver.options[\"penalty_exponent\"] = 1.0\n",
    "driver.options[\"restarts\"] = 1\n",
    "driver.options[\"restart_from_best\"] = True\n",
    "driver.options[\"bipop\"] = False\n",
    "driver.CMAOptions[\"tolfun\"] = 1e-6\n",
    "driver.CMAOptions[\"tolfunhist\"] = 1e-5\n",
    "driver.CMAOptions[\"popsize_factor\"] = 1\n",
    "# driver.CMAOptions['CMA_stds'] = [1, 1, 100, 0.1, 0.1, 1, 1, 1, 1]\n",
    "# driver.CMAOptions['CSA_dampfac'] = 1.  # positive multiplier for step-size damping\n",
    "# driver.CMAOptions['CSA_squared'] = True\n",
    "# driver.CMAOptions['integer_variables'] = [2]\n",
    "# driver.options['augmented_lagrangian'] = True  # whether to use penalty method or augmented lagrangian for handling constraints\n",
    "\n",
    "# Setup and run problem\n",
    "prob.setup()\n",
    "start_time = time()\n",
    "prob.optim_failed = prob.run_driver()  # optimize\n",
    "end_time = time()\n",
    "computation_time = round(end_time - start_time, 2)\n",
    "prob.write_outputs()\n",
    "\n",
    "print(\"Objective function value \", driver.get_objective_values())\n",
    "\n",
    "logger = cma.plot()  # plot logger"
   ]
  },
  {
   "cell_type": "markdown",
   "metadata": {},
   "source": [
    "Let's save and visualize the optimization results:"
   ]
  },
  {
   "cell_type": "code",
   "execution_count": null,
   "metadata": {},
   "outputs": [],
   "source": [
    "OUTPUT_FILE = pth.join(WORK_FOLDER_PATH, \"problem_outputs.xml\")\n",
    "DJI_M600_OUTPUT_FILE = pth.join(DATA_FOLDER_PATH, \"problem_outputs_discrete_DJI_M600_mdo.xml\")\n",
    "shutil.copy(OUTPUT_FILE, DJI_M600_OUTPUT_FILE)\n",
    "oad.optimization_viewer(CONFIGURATION_FILE)"
   ]
  },
  {
   "cell_type": "code",
   "execution_count": null,
   "metadata": {},
   "outputs": [],
   "source": [
    "oad.variable_viewer(OUTPUT_FILE)"
   ]
  },
  {
   "cell_type": "markdown",
   "metadata": {},
   "source": [
    "## 3. Analysis and plots\n",
    "\n",
    "We may now compare the results from the optimization in the continuous domain with the off-the-shelf configuration:"
   ]
  },
  {
   "cell_type": "code",
   "execution_count": null,
   "metadata": {},
   "outputs": [],
   "source": [
    "OUTPUT_FILE_CONTINUOUS = pth.join(DATA_FOLDER_PATH, \"problem_outputs_DJI_M600_mdo.xml\")\n",
    "OUTPUT_FILE_DISCRETE = pth.join(DATA_FOLDER_PATH, \"problem_outputs_discrete_DJI_M600_mdo.xml\")\n",
    "fig = multirotor_geometry_plot(OUTPUT_FILE_CONTINUOUS, name=\"Drone custom\")\n",
    "fig = multirotor_geometry_plot(OUTPUT_FILE_DISCRETE, name=\"Drone off-the-shelf\", fig=fig)\n",
    "fig.show()"
   ]
  },
  {
   "cell_type": "code",
   "execution_count": null,
   "metadata": {},
   "outputs": [],
   "source": [
    "fig = mass_breakdown_sun_plot_drone(OUTPUT_FILE_DISCRETE)\n",
    "fig.show()"
   ]
  },
  {
   "cell_type": "code",
   "execution_count": 13,
   "metadata": {},
   "outputs": [
    {
     "data": {
      "application/vnd.plotly.v1+json": {
       "config": {
        "plotlyServerURL": "https://plot.ly"
       },
       "data": [
        {
         "error_y": {
          "type": "data"
         },
         "marker": {
          "color": "rgb(31, 119, 180)"
         },
         "name": "Custom design",
         "type": "bar",
         "x": [
          "Total",
          "Payload",
          "Battery",
          "ESC",
          "Motors",
          "Propellers",
          "Wires",
          "Airframe"
         ],
         "y": [
          15.422226689822315,
          6.35,
          3.8178401702934153,
          0.19750555170427408,
          1.7128722237624852,
          0.48161959936233256,
          0.10007662959035951,
          2.7623125151094485
         ]
        },
        {
         "error_y": {
          "type": "data"
         },
         "marker": {
          "color": "rgb(255, 127, 14)"
         },
         "name": "Off-the-shelf design",
         "type": "bar",
         "x": [
          "Total",
          "Payload",
          "Battery",
          "ESC",
          "Motors",
          "Propellers",
          "Wires",
          "Airframe"
         ],
         "y": [
          15.490026273154802,
          6.35,
          4.282767524408586,
          0.2201953905553346,
          1.6938415412311363,
          0.366,
          0.0981319489743097,
          2.4790898679854374
         ]
        }
       ],
       "layout": {
        "autosize": true,
        "margin": {
         "b": 0,
         "l": 0,
         "r": 0,
         "t": 80
        },
        "template": {
         "data": {
          "bar": [
           {
            "error_x": {
             "color": "#2a3f5f"
            },
            "error_y": {
             "color": "#2a3f5f"
            },
            "marker": {
             "line": {
              "color": "#E5ECF6",
              "width": 0.5
             },
             "pattern": {
              "fillmode": "overlay",
              "size": 10,
              "solidity": 0.2
             }
            },
            "type": "bar"
           }
          ],
          "barpolar": [
           {
            "marker": {
             "line": {
              "color": "#E5ECF6",
              "width": 0.5
             },
             "pattern": {
              "fillmode": "overlay",
              "size": 10,
              "solidity": 0.2
             }
            },
            "type": "barpolar"
           }
          ],
          "carpet": [
           {
            "aaxis": {
             "endlinecolor": "#2a3f5f",
             "gridcolor": "white",
             "linecolor": "white",
             "minorgridcolor": "white",
             "startlinecolor": "#2a3f5f"
            },
            "baxis": {
             "endlinecolor": "#2a3f5f",
             "gridcolor": "white",
             "linecolor": "white",
             "minorgridcolor": "white",
             "startlinecolor": "#2a3f5f"
            },
            "type": "carpet"
           }
          ],
          "choropleth": [
           {
            "colorbar": {
             "outlinewidth": 0,
             "ticks": ""
            },
            "type": "choropleth"
           }
          ],
          "contour": [
           {
            "colorbar": {
             "outlinewidth": 0,
             "ticks": ""
            },
            "colorscale": [
             [
              0,
              "#0d0887"
             ],
             [
              0.1111111111111111,
              "#46039f"
             ],
             [
              0.2222222222222222,
              "#7201a8"
             ],
             [
              0.3333333333333333,
              "#9c179e"
             ],
             [
              0.4444444444444444,
              "#bd3786"
             ],
             [
              0.5555555555555556,
              "#d8576b"
             ],
             [
              0.6666666666666666,
              "#ed7953"
             ],
             [
              0.7777777777777778,
              "#fb9f3a"
             ],
             [
              0.8888888888888888,
              "#fdca26"
             ],
             [
              1,
              "#f0f921"
             ]
            ],
            "type": "contour"
           }
          ],
          "contourcarpet": [
           {
            "colorbar": {
             "outlinewidth": 0,
             "ticks": ""
            },
            "type": "contourcarpet"
           }
          ],
          "heatmap": [
           {
            "colorbar": {
             "outlinewidth": 0,
             "ticks": ""
            },
            "colorscale": [
             [
              0,
              "#0d0887"
             ],
             [
              0.1111111111111111,
              "#46039f"
             ],
             [
              0.2222222222222222,
              "#7201a8"
             ],
             [
              0.3333333333333333,
              "#9c179e"
             ],
             [
              0.4444444444444444,
              "#bd3786"
             ],
             [
              0.5555555555555556,
              "#d8576b"
             ],
             [
              0.6666666666666666,
              "#ed7953"
             ],
             [
              0.7777777777777778,
              "#fb9f3a"
             ],
             [
              0.8888888888888888,
              "#fdca26"
             ],
             [
              1,
              "#f0f921"
             ]
            ],
            "type": "heatmap"
           }
          ],
          "heatmapgl": [
           {
            "colorbar": {
             "outlinewidth": 0,
             "ticks": ""
            },
            "colorscale": [
             [
              0,
              "#0d0887"
             ],
             [
              0.1111111111111111,
              "#46039f"
             ],
             [
              0.2222222222222222,
              "#7201a8"
             ],
             [
              0.3333333333333333,
              "#9c179e"
             ],
             [
              0.4444444444444444,
              "#bd3786"
             ],
             [
              0.5555555555555556,
              "#d8576b"
             ],
             [
              0.6666666666666666,
              "#ed7953"
             ],
             [
              0.7777777777777778,
              "#fb9f3a"
             ],
             [
              0.8888888888888888,
              "#fdca26"
             ],
             [
              1,
              "#f0f921"
             ]
            ],
            "type": "heatmapgl"
           }
          ],
          "histogram": [
           {
            "marker": {
             "pattern": {
              "fillmode": "overlay",
              "size": 10,
              "solidity": 0.2
             }
            },
            "type": "histogram"
           }
          ],
          "histogram2d": [
           {
            "colorbar": {
             "outlinewidth": 0,
             "ticks": ""
            },
            "colorscale": [
             [
              0,
              "#0d0887"
             ],
             [
              0.1111111111111111,
              "#46039f"
             ],
             [
              0.2222222222222222,
              "#7201a8"
             ],
             [
              0.3333333333333333,
              "#9c179e"
             ],
             [
              0.4444444444444444,
              "#bd3786"
             ],
             [
              0.5555555555555556,
              "#d8576b"
             ],
             [
              0.6666666666666666,
              "#ed7953"
             ],
             [
              0.7777777777777778,
              "#fb9f3a"
             ],
             [
              0.8888888888888888,
              "#fdca26"
             ],
             [
              1,
              "#f0f921"
             ]
            ],
            "type": "histogram2d"
           }
          ],
          "histogram2dcontour": [
           {
            "colorbar": {
             "outlinewidth": 0,
             "ticks": ""
            },
            "colorscale": [
             [
              0,
              "#0d0887"
             ],
             [
              0.1111111111111111,
              "#46039f"
             ],
             [
              0.2222222222222222,
              "#7201a8"
             ],
             [
              0.3333333333333333,
              "#9c179e"
             ],
             [
              0.4444444444444444,
              "#bd3786"
             ],
             [
              0.5555555555555556,
              "#d8576b"
             ],
             [
              0.6666666666666666,
              "#ed7953"
             ],
             [
              0.7777777777777778,
              "#fb9f3a"
             ],
             [
              0.8888888888888888,
              "#fdca26"
             ],
             [
              1,
              "#f0f921"
             ]
            ],
            "type": "histogram2dcontour"
           }
          ],
          "mesh3d": [
           {
            "colorbar": {
             "outlinewidth": 0,
             "ticks": ""
            },
            "type": "mesh3d"
           }
          ],
          "parcoords": [
           {
            "line": {
             "colorbar": {
              "outlinewidth": 0,
              "ticks": ""
             }
            },
            "type": "parcoords"
           }
          ],
          "pie": [
           {
            "automargin": true,
            "type": "pie"
           }
          ],
          "scatter": [
           {
            "fillpattern": {
             "fillmode": "overlay",
             "size": 10,
             "solidity": 0.2
            },
            "type": "scatter"
           }
          ],
          "scatter3d": [
           {
            "line": {
             "colorbar": {
              "outlinewidth": 0,
              "ticks": ""
             }
            },
            "marker": {
             "colorbar": {
              "outlinewidth": 0,
              "ticks": ""
             }
            },
            "type": "scatter3d"
           }
          ],
          "scattercarpet": [
           {
            "marker": {
             "colorbar": {
              "outlinewidth": 0,
              "ticks": ""
             }
            },
            "type": "scattercarpet"
           }
          ],
          "scattergeo": [
           {
            "marker": {
             "colorbar": {
              "outlinewidth": 0,
              "ticks": ""
             }
            },
            "type": "scattergeo"
           }
          ],
          "scattergl": [
           {
            "marker": {
             "colorbar": {
              "outlinewidth": 0,
              "ticks": ""
             }
            },
            "type": "scattergl"
           }
          ],
          "scattermapbox": [
           {
            "marker": {
             "colorbar": {
              "outlinewidth": 0,
              "ticks": ""
             }
            },
            "type": "scattermapbox"
           }
          ],
          "scatterpolar": [
           {
            "marker": {
             "colorbar": {
              "outlinewidth": 0,
              "ticks": ""
             }
            },
            "type": "scatterpolar"
           }
          ],
          "scatterpolargl": [
           {
            "marker": {
             "colorbar": {
              "outlinewidth": 0,
              "ticks": ""
             }
            },
            "type": "scatterpolargl"
           }
          ],
          "scatterternary": [
           {
            "marker": {
             "colorbar": {
              "outlinewidth": 0,
              "ticks": ""
             }
            },
            "type": "scatterternary"
           }
          ],
          "surface": [
           {
            "colorbar": {
             "outlinewidth": 0,
             "ticks": ""
            },
            "colorscale": [
             [
              0,
              "#0d0887"
             ],
             [
              0.1111111111111111,
              "#46039f"
             ],
             [
              0.2222222222222222,
              "#7201a8"
             ],
             [
              0.3333333333333333,
              "#9c179e"
             ],
             [
              0.4444444444444444,
              "#bd3786"
             ],
             [
              0.5555555555555556,
              "#d8576b"
             ],
             [
              0.6666666666666666,
              "#ed7953"
             ],
             [
              0.7777777777777778,
              "#fb9f3a"
             ],
             [
              0.8888888888888888,
              "#fdca26"
             ],
             [
              1,
              "#f0f921"
             ]
            ],
            "type": "surface"
           }
          ],
          "table": [
           {
            "cells": {
             "fill": {
              "color": "#EBF0F8"
             },
             "line": {
              "color": "white"
             }
            },
            "header": {
             "fill": {
              "color": "#C8D4E3"
             },
             "line": {
              "color": "white"
             }
            },
            "type": "table"
           }
          ]
         },
         "layout": {
          "annotationdefaults": {
           "arrowcolor": "#2a3f5f",
           "arrowhead": 0,
           "arrowwidth": 1
          },
          "autotypenumbers": "strict",
          "coloraxis": {
           "colorbar": {
            "outlinewidth": 0,
            "ticks": ""
           }
          },
          "colorscale": {
           "diverging": [
            [
             0,
             "#8e0152"
            ],
            [
             0.1,
             "#c51b7d"
            ],
            [
             0.2,
             "#de77ae"
            ],
            [
             0.3,
             "#f1b6da"
            ],
            [
             0.4,
             "#fde0ef"
            ],
            [
             0.5,
             "#f7f7f7"
            ],
            [
             0.6,
             "#e6f5d0"
            ],
            [
             0.7,
             "#b8e186"
            ],
            [
             0.8,
             "#7fbc41"
            ],
            [
             0.9,
             "#4d9221"
            ],
            [
             1,
             "#276419"
            ]
           ],
           "sequential": [
            [
             0,
             "#0d0887"
            ],
            [
             0.1111111111111111,
             "#46039f"
            ],
            [
             0.2222222222222222,
             "#7201a8"
            ],
            [
             0.3333333333333333,
             "#9c179e"
            ],
            [
             0.4444444444444444,
             "#bd3786"
            ],
            [
             0.5555555555555556,
             "#d8576b"
            ],
            [
             0.6666666666666666,
             "#ed7953"
            ],
            [
             0.7777777777777778,
             "#fb9f3a"
            ],
            [
             0.8888888888888888,
             "#fdca26"
            ],
            [
             1,
             "#f0f921"
            ]
           ],
           "sequentialminus": [
            [
             0,
             "#0d0887"
            ],
            [
             0.1111111111111111,
             "#46039f"
            ],
            [
             0.2222222222222222,
             "#7201a8"
            ],
            [
             0.3333333333333333,
             "#9c179e"
            ],
            [
             0.4444444444444444,
             "#bd3786"
            ],
            [
             0.5555555555555556,
             "#d8576b"
            ],
            [
             0.6666666666666666,
             "#ed7953"
            ],
            [
             0.7777777777777778,
             "#fb9f3a"
            ],
            [
             0.8888888888888888,
             "#fdca26"
            ],
            [
             1,
             "#f0f921"
            ]
           ]
          },
          "colorway": [
           "#636efa",
           "#EF553B",
           "#00cc96",
           "#ab63fa",
           "#FFA15A",
           "#19d3f3",
           "#FF6692",
           "#B6E880",
           "#FF97FF",
           "#FECB52"
          ],
          "font": {
           "color": "#2a3f5f"
          },
          "geo": {
           "bgcolor": "white",
           "lakecolor": "white",
           "landcolor": "#E5ECF6",
           "showlakes": true,
           "showland": true,
           "subunitcolor": "white"
          },
          "hoverlabel": {
           "align": "left"
          },
          "hovermode": "closest",
          "mapbox": {
           "style": "light"
          },
          "paper_bgcolor": "white",
          "plot_bgcolor": "#E5ECF6",
          "polar": {
           "angularaxis": {
            "gridcolor": "white",
            "linecolor": "white",
            "ticks": ""
           },
           "bgcolor": "#E5ECF6",
           "radialaxis": {
            "gridcolor": "white",
            "linecolor": "white",
            "ticks": ""
           }
          },
          "scene": {
           "xaxis": {
            "backgroundcolor": "#E5ECF6",
            "gridcolor": "white",
            "gridwidth": 2,
            "linecolor": "white",
            "showbackground": true,
            "ticks": "",
            "zerolinecolor": "white"
           },
           "yaxis": {
            "backgroundcolor": "#E5ECF6",
            "gridcolor": "white",
            "gridwidth": 2,
            "linecolor": "white",
            "showbackground": true,
            "ticks": "",
            "zerolinecolor": "white"
           },
           "zaxis": {
            "backgroundcolor": "#E5ECF6",
            "gridcolor": "white",
            "gridwidth": 2,
            "linecolor": "white",
            "showbackground": true,
            "ticks": "",
            "zerolinecolor": "white"
           }
          },
          "shapedefaults": {
           "line": {
            "color": "#2a3f5f"
           }
          },
          "ternary": {
           "aaxis": {
            "gridcolor": "white",
            "linecolor": "white",
            "ticks": ""
           },
           "baxis": {
            "gridcolor": "white",
            "linecolor": "white",
            "ticks": ""
           },
           "bgcolor": "#E5ECF6",
           "caxis": {
            "gridcolor": "white",
            "linecolor": "white",
            "ticks": ""
           }
          },
          "title": {
           "x": 0.05
          },
          "xaxis": {
           "automargin": true,
           "gridcolor": "white",
           "linecolor": "white",
           "ticks": "",
           "title": {
            "standoff": 15
           },
           "zerolinecolor": "white",
           "zerolinewidth": 2
          },
          "yaxis": {
           "automargin": true,
           "gridcolor": "white",
           "linecolor": "white",
           "ticks": "",
           "title": {
            "standoff": 15
           },
           "zerolinecolor": "white",
           "zerolinewidth": 2
          }
         }
        },
        "title": {
         "text": "Mass Breakdown",
         "x": 0.5
        },
        "xaxis": {
         "autorange": true,
         "categoryorder": "total descending",
         "range": [
          -0.5,
          7.5
         ],
         "type": "category"
        },
        "yaxis": {
         "autorange": true,
         "range": [
          0,
          16.30529081384716
         ],
         "title": {
          "text": "Mass [kg]"
         },
         "type": "linear"
        }
       }
      },
      "image/png": "[encoded data removed]",
      "text/html": [
       "<div>                            <div id=\"64ecef5b-2eac-44ab-ae12-dbc22e00ccbc\" class=\"plotly-graph-div\" style=\"height:525px; width:100%;\"></div>            <script type=\"text/javascript\">                require([\"plotly\"], function(Plotly) {                    window.PLOTLYENV=window.PLOTLYENV || {};                                    if (document.getElementById(\"64ecef5b-2eac-44ab-ae12-dbc22e00ccbc\")) {                    Plotly.newPlot(                        \"64ecef5b-2eac-44ab-ae12-dbc22e00ccbc\",                        [{\"error_y\":{\"type\":\"data\"},\"marker\":{\"color\":\"rgb(31, 119, 180)\"},\"name\":\"Custom design\",\"x\":[\"Total\",\"Payload\",\"Battery\",\"ESC\",\"Motors\",\"Propellers\",\"Wires\",\"Airframe\"],\"y\":[15.422226689822315,6.35,3.8178401702934153,0.19750555170427408,1.7128722237624852,0.48161959936233256,0.10007662959035951,2.7623125151094485],\"type\":\"bar\"},{\"error_y\":{\"type\":\"data\"},\"marker\":{\"color\":\"rgb(255, 127, 14)\"},\"name\":\"Off-the-shelf design\",\"x\":[\"Total\",\"Payload\",\"Battery\",\"ESC\",\"Motors\",\"Propellers\",\"Wires\",\"Airframe\"],\"y\":[15.490026273154802,6.35,4.282767524408586,0.2201953905553346,1.6938415412311363,0.366,0.0981319489743097,2.4790898679854374],\"type\":\"bar\"}],                        {\"template\":{\"data\":{\"histogram2dcontour\":[{\"type\":\"histogram2dcontour\",\"colorbar\":{\"outlinewidth\":0,\"ticks\":\"\"},\"colorscale\":[[0.0,\"#0d0887\"],[0.1111111111111111,\"#46039f\"],[0.2222222222222222,\"#7201a8\"],[0.3333333333333333,\"#9c179e\"],[0.4444444444444444,\"#bd3786\"],[0.5555555555555556,\"#d8576b\"],[0.6666666666666666,\"#ed7953\"],[0.7777777777777778,\"#fb9f3a\"],[0.8888888888888888,\"#fdca26\"],[1.0,\"#f0f921\"]]}],\"choropleth\":[{\"type\":\"choropleth\",\"colorbar\":{\"outlinewidth\":0,\"ticks\":\"\"}}],\"histogram2d\":[{\"type\":\"histogram2d\",\"colorbar\":{\"outlinewidth\":0,\"ticks\":\"\"},\"colorscale\":[[0.0,\"#0d0887\"],[0.1111111111111111,\"#46039f\"],[0.2222222222222222,\"#7201a8\"],[0.3333333333333333,\"#9c179e\"],[0.4444444444444444,\"#bd3786\"],[0.5555555555555556,\"#d8576b\"],[0.6666666666666666,\"#ed7953\"],[0.7777777777777778,\"#fb9f3a\"],[0.8888888888888888,\"#fdca26\"],[1.0,\"#f0f921\"]]}],\"heatmap\":[{\"type\":\"heatmap\",\"colorbar\":{\"outlinewidth\":0,\"ticks\":\"\"},\"colorscale\":[[0.0,\"#0d0887\"],[0.1111111111111111,\"#46039f\"],[0.2222222222222222,\"#7201a8\"],[0.3333333333333333,\"#9c179e\"],[0.4444444444444444,\"#bd3786\"],[0.5555555555555556,\"#d8576b\"],[0.6666666666666666,\"#ed7953\"],[0.7777777777777778,\"#fb9f3a\"],[0.8888888888888888,\"#fdca26\"],[1.0,\"#f0f921\"]]}],\"heatmapgl\":[{\"type\":\"heatmapgl\",\"colorbar\":{\"outlinewidth\":0,\"ticks\":\"\"},\"colorscale\":[[0.0,\"#0d0887\"],[0.1111111111111111,\"#46039f\"],[0.2222222222222222,\"#7201a8\"],[0.3333333333333333,\"#9c179e\"],[0.4444444444444444,\"#bd3786\"],[0.5555555555555556,\"#d8576b\"],[0.6666666666666666,\"#ed7953\"],[0.7777777777777778,\"#fb9f3a\"],[0.8888888888888888,\"#fdca26\"],[1.0,\"#f0f921\"]]}],\"contourcarpet\":[{\"type\":\"contourcarpet\",\"colorbar\":{\"outlinewidth\":0,\"ticks\":\"\"}}],\"contour\":[{\"type\":\"contour\",\"colorbar\":{\"outlinewidth\":0,\"ticks\":\"\"},\"colorscale\":[[0.0,\"#0d0887\"],[0.1111111111111111,\"#46039f\"],[0.2222222222222222,\"#7201a8\"],[0.3333333333333333,\"#9c179e\"],[0.4444444444444444,\"#bd3786\"],[0.5555555555555556,\"#d8576b\"],[0.6666666666666666,\"#ed7953\"],[0.7777777777777778,\"#fb9f3a\"],[0.8888888888888888,\"#fdca26\"],[1.0,\"#f0f921\"]]}],\"surface\":[{\"type\":\"surface\",\"colorbar\":{\"outlinewidth\":0,\"ticks\":\"\"},\"colorscale\":[[0.0,\"#0d0887\"],[0.1111111111111111,\"#46039f\"],[0.2222222222222222,\"#7201a8\"],[0.3333333333333333,\"#9c179e\"],[0.4444444444444444,\"#bd3786\"],[0.5555555555555556,\"#d8576b\"],[0.6666666666666666,\"#ed7953\"],[0.7777777777777778,\"#fb9f3a\"],[0.8888888888888888,\"#fdca26\"],[1.0,\"#f0f921\"]]}],\"mesh3d\":[{\"type\":\"mesh3d\",\"colorbar\":{\"outlinewidth\":0,\"ticks\":\"\"}}],\"scatter\":[{\"fillpattern\":{\"fillmode\":\"overlay\",\"size\":10,\"solidity\":0.2},\"type\":\"scatter\"}],\"parcoords\":[{\"type\":\"parcoords\",\"line\":{\"colorbar\":{\"outlinewidth\":0,\"ticks\":\"\"}}}],\"scatterpolargl\":[{\"type\":\"scatterpolargl\",\"marker\":{\"colorbar\":{\"outlinewidth\":0,\"ticks\":\"\"}}}],\"bar\":[{\"error_x\":{\"color\":\"#2a3f5f\"},\"error_y\":{\"color\":\"#2a3f5f\"},\"marker\":{\"line\":{\"color\":\"#E5ECF6\",\"width\":0.5},\"pattern\":{\"fillmode\":\"overlay\",\"size\":10,\"solidity\":0.2}},\"type\":\"bar\"}],\"scattergeo\":[{\"type\":\"scattergeo\",\"marker\":{\"colorbar\":{\"outlinewidth\":0,\"ticks\":\"\"}}}],\"scatterpolar\":[{\"type\":\"scatterpolar\",\"marker\":{\"colorbar\":{\"outlinewidth\":0,\"ticks\":\"\"}}}],\"histogram\":[{\"marker\":{\"pattern\":{\"fillmode\":\"overlay\",\"size\":10,\"solidity\":0.2}},\"type\":\"histogram\"}],\"scattergl\":[{\"type\":\"scattergl\",\"marker\":{\"colorbar\":{\"outlinewidth\":0,\"ticks\":\"\"}}}],\"scatter3d\":[{\"type\":\"scatter3d\",\"line\":{\"colorbar\":{\"outlinewidth\":0,\"ticks\":\"\"}},\"marker\":{\"colorbar\":{\"outlinewidth\":0,\"ticks\":\"\"}}}],\"scattermapbox\":[{\"type\":\"scattermapbox\",\"marker\":{\"colorbar\":{\"outlinewidth\":0,\"ticks\":\"\"}}}],\"scatterternary\":[{\"type\":\"scatterternary\",\"marker\":{\"colorbar\":{\"outlinewidth\":0,\"ticks\":\"\"}}}],\"scattercarpet\":[{\"type\":\"scattercarpet\",\"marker\":{\"colorbar\":{\"outlinewidth\":0,\"ticks\":\"\"}}}],\"carpet\":[{\"aaxis\":{\"endlinecolor\":\"#2a3f5f\",\"gridcolor\":\"white\",\"linecolor\":\"white\",\"minorgridcolor\":\"white\",\"startlinecolor\":\"#2a3f5f\"},\"baxis\":{\"endlinecolor\":\"#2a3f5f\",\"gridcolor\":\"white\",\"linecolor\":\"white\",\"minorgridcolor\":\"white\",\"startlinecolor\":\"#2a3f5f\"},\"type\":\"carpet\"}],\"table\":[{\"cells\":{\"fill\":{\"color\":\"#EBF0F8\"},\"line\":{\"color\":\"white\"}},\"header\":{\"fill\":{\"color\":\"#C8D4E3\"},\"line\":{\"color\":\"white\"}},\"type\":\"table\"}],\"barpolar\":[{\"marker\":{\"line\":{\"color\":\"#E5ECF6\",\"width\":0.5},\"pattern\":{\"fillmode\":\"overlay\",\"size\":10,\"solidity\":0.2}},\"type\":\"barpolar\"}],\"pie\":[{\"automargin\":true,\"type\":\"pie\"}]},\"layout\":{\"autotypenumbers\":\"strict\",\"colorway\":[\"#636efa\",\"#EF553B\",\"#00cc96\",\"#ab63fa\",\"#FFA15A\",\"#19d3f3\",\"#FF6692\",\"#B6E880\",\"#FF97FF\",\"#FECB52\"],\"font\":{\"color\":\"#2a3f5f\"},\"hovermode\":\"closest\",\"hoverlabel\":{\"align\":\"left\"},\"paper_bgcolor\":\"white\",\"plot_bgcolor\":\"#E5ECF6\",\"polar\":{\"bgcolor\":\"#E5ECF6\",\"angularaxis\":{\"gridcolor\":\"white\",\"linecolor\":\"white\",\"ticks\":\"\"},\"radialaxis\":{\"gridcolor\":\"white\",\"linecolor\":\"white\",\"ticks\":\"\"}},\"ternary\":{\"bgcolor\":\"#E5ECF6\",\"aaxis\":{\"gridcolor\":\"white\",\"linecolor\":\"white\",\"ticks\":\"\"},\"baxis\":{\"gridcolor\":\"white\",\"linecolor\":\"white\",\"ticks\":\"\"},\"caxis\":{\"gridcolor\":\"white\",\"linecolor\":\"white\",\"ticks\":\"\"}},\"coloraxis\":{\"colorbar\":{\"outlinewidth\":0,\"ticks\":\"\"}},\"colorscale\":{\"sequential\":[[0.0,\"#0d0887\"],[0.1111111111111111,\"#46039f\"],[0.2222222222222222,\"#7201a8\"],[0.3333333333333333,\"#9c179e\"],[0.4444444444444444,\"#bd3786\"],[0.5555555555555556,\"#d8576b\"],[0.6666666666666666,\"#ed7953\"],[0.7777777777777778,\"#fb9f3a\"],[0.8888888888888888,\"#fdca26\"],[1.0,\"#f0f921\"]],\"sequentialminus\":[[0.0,\"#0d0887\"],[0.1111111111111111,\"#46039f\"],[0.2222222222222222,\"#7201a8\"],[0.3333333333333333,\"#9c179e\"],[0.4444444444444444,\"#bd3786\"],[0.5555555555555556,\"#d8576b\"],[0.6666666666666666,\"#ed7953\"],[0.7777777777777778,\"#fb9f3a\"],[0.8888888888888888,\"#fdca26\"],[1.0,\"#f0f921\"]],\"diverging\":[[0,\"#8e0152\"],[0.1,\"#c51b7d\"],[0.2,\"#de77ae\"],[0.3,\"#f1b6da\"],[0.4,\"#fde0ef\"],[0.5,\"#f7f7f7\"],[0.6,\"#e6f5d0\"],[0.7,\"#b8e186\"],[0.8,\"#7fbc41\"],[0.9,\"#4d9221\"],[1,\"#276419\"]]},\"xaxis\":{\"gridcolor\":\"white\",\"linecolor\":\"white\",\"ticks\":\"\",\"title\":{\"standoff\":15},\"zerolinecolor\":\"white\",\"automargin\":true,\"zerolinewidth\":2},\"yaxis\":{\"gridcolor\":\"white\",\"linecolor\":\"white\",\"ticks\":\"\",\"title\":{\"standoff\":15},\"zerolinecolor\":\"white\",\"automargin\":true,\"zerolinewidth\":2},\"scene\":{\"xaxis\":{\"backgroundcolor\":\"#E5ECF6\",\"gridcolor\":\"white\",\"linecolor\":\"white\",\"showbackground\":true,\"ticks\":\"\",\"zerolinecolor\":\"white\",\"gridwidth\":2},\"yaxis\":{\"backgroundcolor\":\"#E5ECF6\",\"gridcolor\":\"white\",\"linecolor\":\"white\",\"showbackground\":true,\"ticks\":\"\",\"zerolinecolor\":\"white\",\"gridwidth\":2},\"zaxis\":{\"backgroundcolor\":\"#E5ECF6\",\"gridcolor\":\"white\",\"linecolor\":\"white\",\"showbackground\":true,\"ticks\":\"\",\"zerolinecolor\":\"white\",\"gridwidth\":2}},\"shapedefaults\":{\"line\":{\"color\":\"#2a3f5f\"}},\"annotationdefaults\":{\"arrowcolor\":\"#2a3f5f\",\"arrowhead\":0,\"arrowwidth\":1},\"geo\":{\"bgcolor\":\"white\",\"landcolor\":\"#E5ECF6\",\"subunitcolor\":\"white\",\"showland\":true,\"showlakes\":true,\"lakecolor\":\"white\"},\"title\":{\"x\":0.05},\"mapbox\":{\"style\":\"light\"}}},\"margin\":{\"t\":80,\"l\":0,\"r\":0,\"b\":0},\"title\":{\"text\":\"Mass Breakdown\",\"x\":0.5},\"yaxis\":{\"title\":{\"text\":\"Mass [kg]\"}},\"xaxis\":{\"categoryorder\":\"total descending\"}},                        {\"responsive\": true}                    ).then(function(){\n",
       "                            \n",
       "var gd = document.getElementById('64ecef5b-2eac-44ab-ae12-dbc22e00ccbc');\n",
       "var x = new MutationObserver(function (mutations, observer) {{\n",
       "        var display = window.getComputedStyle(gd).display;\n",
       "        if (!display || display === 'none') {{\n",
       "            console.log([gd, 'removed!']);\n",
       "            Plotly.purge(gd);\n",
       "            observer.disconnect();\n",
       "        }}\n",
       "}});\n",
       "\n",
       "// Listen for the removal of the full notebook cells\n",
       "var notebookContainer = gd.closest('#notebook-container');\n",
       "if (notebookContainer) {{\n",
       "    x.observe(notebookContainer, {childList: true});\n",
       "}}\n",
       "\n",
       "// Listen for the clearing of the current output cell\n",
       "var outputEl = gd.closest('.output');\n",
       "if (outputEl) {{\n",
       "    x.observe(outputEl, {childList: true});\n",
       "}}\n",
       "\n",
       "                        })                };                });            </script>        </div>"
      ]
     },
     "metadata": {},
     "output_type": "display_data"
    }
   ],
   "source": [
    "OUTPUT_FILE_CONTINUOUS = pth.join(DATA_FOLDER_PATH, \"problem_outputs_DJI_M600_mdo.xml\")\n",
    "OUTPUT_FILE_DISCRETE = pth.join(DATA_FOLDER_PATH, \"problem_outputs_discrete_DJI_M600_mdo.xml\")\n",
    "\n",
    "fig = mass_breakdown_bar_plot_drone(OUTPUT_FILE_CONTINUOUS, name=\"Custom design\")\n",
    "fig = mass_breakdown_bar_plot_drone(OUTPUT_FILE_DISCRETE, name=\"Off-the-shelf design\", fig=fig)\n",
    "fig.show()"
   ]
  }
 ],
 "metadata": {
  "kernelspec": {
   "display_name": "Python 3 (ipykernel)",
   "language": "python",
   "name": "python3"
  },
  "language_info": {
   "codemirror_mode": {
    "name": "ipython",
    "version": 3
   },
   "file_extension": ".py",
   "mimetype": "text/x-python",
   "name": "python",
   "nbconvert_exporter": "python",
   "pygments_lexer": "ipython3",
   "version": "3.8.16"
  }
 },
 "nbformat": 4,
 "nbformat_minor": 4
}
