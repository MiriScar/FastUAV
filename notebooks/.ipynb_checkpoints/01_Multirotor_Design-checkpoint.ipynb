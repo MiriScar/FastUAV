{
 "cells": [
  {
   "cell_type": "markdown",
   "metadata": {},
   "source": [
    "# FAST-UAV - Multirotor Design Optimization"
   ]
  },
  {
   "cell_type": "markdown",
   "metadata": {},
   "source": [
    "[FAST-OAD](https://fast-oad.readthedocs.io) is a framework for performing rapid Overall Aircraft Design. The computational core of FAST-OAD is based on the  [OpenMDAO framework](https://openmdao.org/). <br>\n",
    "FAST-UAV is the drone declination of FAST-OAD."
   ]
  },
  {
   "cell_type": "markdown",
   "metadata": {},
   "source": [
    "## 1. Setting up and analyzing the initial problem"
   ]
  },
  {
   "cell_type": "markdown",
   "metadata": {},
   "source": [
    "To organize our work, we propose to use two user folders `data/` and `workdir/`. For instance, in `data/` we store a XML file which describes the [DJI Matrice 600 Pro](https://www.dji.com/matrice600-pro) multicopter. In `workdir/`, we store files generated or modified by FAST-UAV."
   ]
  },
  {
   "cell_type": "code",
   "execution_count": 1,
   "metadata": {},
   "outputs": [
    {
     "data": {
      "text/html": [
       "<style>.container { width:95% !important; }</style>"
      ],
      "text/plain": [
       "<IPython.core.display.HTML object>"
      ]
     },
     "metadata": {},
     "output_type": "display_data"
    }
   ],
   "source": [
    "import os.path as pth\n",
    "import openmdao.api as om\n",
    "import logging\n",
    "import shutil\n",
    "import fastoad.api as oad\n",
    "from time import time\n",
    "import matplotlib.pyplot as plt\n",
    "from fastuav.utils.postprocessing.analysis_and_plots import *\n",
    "\n",
    "plt.rcParams[\"figure.figsize\"] = 16, 8\n",
    "plt.rcParams.update({\"font.size\": 13})\n",
    "\n",
    "DATA_FOLDER_PATH = \"../data\"\n",
    "CONFIGURATIONS_FOLDER_PATH = \"../configurations\"\n",
    "WORK_FOLDER_PATH = \"./workdir\"\n",
    "\n",
    "CONFIGURATION_FILE = pth.join(WORK_FOLDER_PATH, \"multirotor_mdo.yaml\")\n",
    "SOURCE_FILE = pth.join(DATA_FOLDER_PATH, \"problem_inputs_DJI_M600.xml\")\n",
    "\n",
    "# For having log messages display on screen\n",
    "logging.basicConfig(level=logging.INFO, format=\"%(levelname)-8s: %(message)s\")\n",
    "\n",
    "# For using all screen width\n",
    "from IPython.display import display, HTML\n",
    "\n",
    "display(HTML(\"<style>.container { width:95% !important; }</style>\"))"
   ]
  },
  {
   "cell_type": "code",
   "execution_count": 2,
   "metadata": {},
   "outputs": [
    {
     "name": "stderr",
     "output_type": "stream",
     "text": [
      "Failed to import module fastuav.models.structures\n"
     ]
    },
    {
     "data": {
      "text/plain": [
       "'C:\\\\Users\\\\fastuav\\\\Documents\\\\FAST-UAV\\\\src\\\\fastuav\\\\notebooks\\\\workdir\\\\multirotor_mdo.yaml'"
      ]
     },
     "execution_count": 2,
     "metadata": {},
     "output_type": "execute_result"
    }
   ],
   "source": [
    "oad.generate_configuration_file(\n",
    "    CONFIGURATION_FILE, overwrite=True, distribution_name=\"fastuav\", sample_file_name=\"multirotor_mdo.yaml\"\n",
    ")"
   ]
  },
  {
   "cell_type": "markdown",
   "metadata": {},
   "source": [
    "The YAML configuration file located in the data folder defines the design problem, i.e. the model, the problem driver and the optimization problem definition.<br>\n",
    "A useful feature is the [N2 diagram](http://openmdao.org/twodocs/versions/latest/basic_guide/make_n2.html) visualization available in OpenMDAO to see the structure of the model:"
   ]
  },
  {
   "cell_type": "code",
   "execution_count": 3,
   "metadata": {
    "scrolled": true,
    "tags": []
   },
   "outputs": [
    {
     "ename": "ValidationError",
     "evalue": "'data:structures:landing_gear:stress' is not of type 'number', 'array'\n\nFailed validating 'type' in schema['properties']['optimization']['properties']['constraints']['items']['properties']['upper']:\n    {'$comment': 'Definition of value that accepts float or list of floats',\n     'items': {'type': 'number'},\n     'type': ['number', 'array']}\n\nOn instance['optimization']['constraints'][18]['upper']:\n    'data:structures:landing_gear:stress'",
     "output_type": "error",
     "traceback": [
      "\u001b[1;31m---------------------------------------------------------------------------\u001b[0m",
      "\u001b[1;31mValidationError\u001b[0m                           Traceback (most recent call last)",
      "Cell \u001b[1;32mIn[3], line 2\u001b[0m\n\u001b[0;32m      1\u001b[0m N2_FILE \u001b[38;5;241m=\u001b[39m pth\u001b[38;5;241m.\u001b[39mjoin(WORK_FOLDER_PATH, \u001b[38;5;124m\"\u001b[39m\u001b[38;5;124mn2.html\u001b[39m\u001b[38;5;124m\"\u001b[39m)\n\u001b[1;32m----> 2\u001b[0m \u001b[43moad\u001b[49m\u001b[38;5;241;43m.\u001b[39;49m\u001b[43mwrite_n2\u001b[49m\u001b[43m(\u001b[49m\u001b[43mCONFIGURATION_FILE\u001b[49m\u001b[43m,\u001b[49m\u001b[43m \u001b[49m\u001b[43mN2_FILE\u001b[49m\u001b[43m,\u001b[49m\u001b[43m \u001b[49m\u001b[43moverwrite\u001b[49m\u001b[38;5;241;43m=\u001b[39;49m\u001b[38;5;28;43;01mTrue\u001b[39;49;00m\u001b[43m)\u001b[49m\n\u001b[0;32m      3\u001b[0m \u001b[38;5;28;01mfrom\u001b[39;00m \u001b[38;5;21;01mIPython\u001b[39;00m\u001b[38;5;21;01m.\u001b[39;00m\u001b[38;5;21;01mdisplay\u001b[39;00m \u001b[38;5;28;01mimport\u001b[39;00m IFrame\n\u001b[0;32m      4\u001b[0m IFrame(src\u001b[38;5;241m=\u001b[39mN2_FILE, width\u001b[38;5;241m=\u001b[39m\u001b[38;5;124m\"\u001b[39m\u001b[38;5;124m100\u001b[39m\u001b[38;5;124m%\u001b[39m\u001b[38;5;124m\"\u001b[39m, height\u001b[38;5;241m=\u001b[39m\u001b[38;5;124m\"\u001b[39m\u001b[38;5;124m500px\u001b[39m\u001b[38;5;124m\"\u001b[39m)\n",
      "File \u001b[1;32m~\\.conda\\envs\\fastuav\\lib\\site-packages\\fastoad\\cmd\\api.py:509\u001b[0m, in \u001b[0;36mwrite_n2\u001b[1;34m(configuration_file_path, n2_file_path, overwrite)\u001b[0m\n\u001b[0;32m    502\u001b[0m     \u001b[38;5;28;01mraise\u001b[39;00m FastPathExistsError(\n\u001b[0;32m    503\u001b[0m         \u001b[38;5;124mf\u001b[39m\u001b[38;5;124m\"\u001b[39m\u001b[38;5;124mN2-diagram file \u001b[39m\u001b[38;5;132;01m{\u001b[39;00mn2_file_path\u001b[38;5;132;01m}\u001b[39;00m\u001b[38;5;124m not written because it already exists. \u001b[39m\u001b[38;5;124m\"\u001b[39m\n\u001b[0;32m    504\u001b[0m         \u001b[38;5;124m\"\u001b[39m\u001b[38;5;124mUse overwrite=True to bypass.\u001b[39m\u001b[38;5;124m\"\u001b[39m,\n\u001b[0;32m    505\u001b[0m         n2_file_path,\n\u001b[0;32m    506\u001b[0m     )\n\u001b[0;32m    508\u001b[0m make_parent_dir(n2_file_path)\n\u001b[1;32m--> 509\u001b[0m conf \u001b[38;5;241m=\u001b[39m \u001b[43mFASTOADProblemConfigurator\u001b[49m\u001b[43m(\u001b[49m\u001b[43mconfiguration_file_path\u001b[49m\u001b[43m)\u001b[49m\n\u001b[0;32m    510\u001b[0m conf\u001b[38;5;241m.\u001b[39m_set_configuration_modifier(_PROBLEM_CONFIGURATOR)\n\u001b[0;32m    511\u001b[0m problem \u001b[38;5;241m=\u001b[39m conf\u001b[38;5;241m.\u001b[39mget_problem()\n",
      "File \u001b[1;32m~\\.conda\\envs\\fastuav\\lib\\site-packages\\fastoad\\io\\configuration\\configuration.py:77\u001b[0m, in \u001b[0;36mFASTOADProblemConfigurator.__init__\u001b[1;34m(self, conf_file_path)\u001b[0m\n\u001b[0;32m     74\u001b[0m \u001b[38;5;28mself\u001b[39m\u001b[38;5;241m.\u001b[39m_configuration_modifier: \u001b[38;5;124m\"\u001b[39m\u001b[38;5;124m_IConfigurationModifier\u001b[39m\u001b[38;5;124m\"\u001b[39m \u001b[38;5;241m=\u001b[39m \u001b[38;5;28;01mNone\u001b[39;00m\n\u001b[0;32m     76\u001b[0m \u001b[38;5;28;01mif\u001b[39;00m conf_file_path:\n\u001b[1;32m---> 77\u001b[0m     \u001b[38;5;28;43mself\u001b[39;49m\u001b[38;5;241;43m.\u001b[39;49m\u001b[43mload\u001b[49m\u001b[43m(\u001b[49m\u001b[43mconf_file_path\u001b[49m\u001b[43m)\u001b[49m\n",
      "File \u001b[1;32m~\\.conda\\envs\\fastuav\\lib\\site-packages\\fastoad\\io\\configuration\\configuration.py:162\u001b[0m, in \u001b[0;36mFASTOADProblemConfigurator.load\u001b[1;34m(self, conf_file)\u001b[0m\n\u001b[0;32m    160\u001b[0m \u001b[38;5;28;01mwith\u001b[39;00m open_text(resources, JSON_SCHEMA_NAME) \u001b[38;5;28;01mas\u001b[39;00m json_file:\n\u001b[0;32m    161\u001b[0m     json_schema \u001b[38;5;241m=\u001b[39m json\u001b[38;5;241m.\u001b[39mloads(json_file\u001b[38;5;241m.\u001b[39mread())\n\u001b[1;32m--> 162\u001b[0m \u001b[43mvalidate\u001b[49m\u001b[43m(\u001b[49m\u001b[38;5;28;43mself\u001b[39;49m\u001b[38;5;241;43m.\u001b[39;49m\u001b[43m_serializer\u001b[49m\u001b[38;5;241;43m.\u001b[39;49m\u001b[43mdata\u001b[49m\u001b[43m,\u001b[49m\u001b[43m \u001b[49m\u001b[43mjson_schema\u001b[49m\u001b[43m)\u001b[49m\n\u001b[0;32m    163\u001b[0m \u001b[38;5;66;03m# Issue a simple warning for unknown keys at root level\u001b[39;00m\n\u001b[0;32m    164\u001b[0m \u001b[38;5;28;01mfor\u001b[39;00m key \u001b[38;5;129;01min\u001b[39;00m \u001b[38;5;28mself\u001b[39m\u001b[38;5;241m.\u001b[39m_serializer\u001b[38;5;241m.\u001b[39mdata:\n",
      "File \u001b[1;32m~\\.conda\\envs\\fastuav\\lib\\site-packages\\jsonschema\\validators.py:1121\u001b[0m, in \u001b[0;36mvalidate\u001b[1;34m(instance, schema, cls, *args, **kwargs)\u001b[0m\n\u001b[0;32m   1119\u001b[0m error \u001b[38;5;241m=\u001b[39m exceptions\u001b[38;5;241m.\u001b[39mbest_match(validator\u001b[38;5;241m.\u001b[39miter_errors(instance))\n\u001b[0;32m   1120\u001b[0m \u001b[38;5;28;01mif\u001b[39;00m error \u001b[38;5;129;01mis\u001b[39;00m \u001b[38;5;129;01mnot\u001b[39;00m \u001b[38;5;28;01mNone\u001b[39;00m:\n\u001b[1;32m-> 1121\u001b[0m     \u001b[38;5;28;01mraise\u001b[39;00m error\n",
      "\u001b[1;31mValidationError\u001b[0m: 'data:structures:landing_gear:stress' is not of type 'number', 'array'\n\nFailed validating 'type' in schema['properties']['optimization']['properties']['constraints']['items']['properties']['upper']:\n    {'$comment': 'Definition of value that accepts float or list of floats',\n     'items': {'type': 'number'},\n     'type': ['number', 'array']}\n\nOn instance['optimization']['constraints'][18]['upper']:\n    'data:structures:landing_gear:stress'"
     ]
    }
   ],
   "source": [
    "N2_FILE = pth.join(WORK_FOLDER_PATH, \"n2.html\")\n",
    "oad.write_n2(CONFIGURATION_FILE, N2_FILE, overwrite=True)\n",
    "from IPython.display import IFrame\n",
    "IFrame(src=N2_FILE, width=\"100%\", height=\"500px\")"
   ]
  },
  {
   "cell_type": "code",
   "execution_count": null,
   "metadata": {},
   "outputs": [],
   "source": [
    "XDSM_FILE = pth.join(WORK_FOLDER_PATH, \"xdsm.html\")\n",
    "oad.write_xdsm(CONFIGURATION_FILE, XDSM_FILE, overwrite=True)  \n",
    "from IPython.display import IFrame\n",
    "IFrame(src=XDSM_FILE, width=\"100%\", height=\"500px\")"
   ]
  },
  {
   "cell_type": "markdown",
   "metadata": {
    "tags": []
   },
   "source": [
    "In the configuration file, we have specified an input file name 'problem_inputs.xml'. We can ask FAST-UAV to generate the inputs of the model with the reference parameters from 'problem_inputs_DJI_M600.xml' as default values:"
   ]
  },
  {
   "cell_type": "code",
   "execution_count": null,
   "metadata": {},
   "outputs": [],
   "source": [
    "oad.generate_inputs(CONFIGURATION_FILE, SOURCE_FILE, overwrite=True)"
   ]
  },
  {
   "cell_type": "markdown",
   "metadata": {},
   "source": [
    "You can now checkout the generated [input file](./workdir/problem_inputs.xml). The values in this file can be modified by the user and will be considered by FAST-UAV when executing a computational process.<br>\n",
    "The `variable-viewer` provides a way to inspect and modify the content of the XML file. The dropdown lists above the table allow to filter the displayed variable."
   ]
  },
  {
   "cell_type": "code",
   "execution_count": null,
   "metadata": {},
   "outputs": [],
   "source": [
    "INPUT_FILE = pth.join(WORK_FOLDER_PATH, \"problem_inputs.xml\")\n",
    "oad.variable_viewer(INPUT_FILE)"
   ]
  },
  {
   "cell_type": "markdown",
   "metadata": {},
   "source": []
  },
  {
   "cell_type": "markdown",
   "metadata": {},
   "source": [
    "## 2. Running an MDO\n",
    "\n",
    "You can now run an optimization problem. The last part of the configuration file .yaml is where this optimization problem is defined:\n",
    "\n",
    "```yaml\n",
    "optimization:\n",
    "  design_variables:\n",
    "    - name: data:weights:mtow:k # over estimation coefficient on the load mass\n",
    "      upper: 40.0\n",
    "      lower: 1.0\n",
    "  constraints:\n",
    "    - name: data:weights:mtow:guess:constraint # mass consistency\n",
    "      lower: 0.0\n",
    "  objective:\n",
    "    - name: data:weights:mtow\n",
    "      scaler: 1e-1\n",
    "```"
   ]
  },
  {
   "cell_type": "code",
   "execution_count": null,
   "metadata": {
    "tags": []
   },
   "outputs": [],
   "source": [
    "optim_problem = oad.optimize_problem(CONFIGURATION_FILE, overwrite=True)"
   ]
  },
  {
   "cell_type": "markdown",
   "metadata": {},
   "source": [
    "Let's save these results:"
   ]
  },
  {
   "cell_type": "code",
   "execution_count": null,
   "metadata": {},
   "outputs": [],
   "source": [
    "OUTPUT_FILE = pth.join(WORK_FOLDER_PATH, \"problem_outputs.xml\")\n",
    "DJI_M600_OUTPUT_FILE = pth.join(DATA_FOLDER_PATH, 'problem_outputs_DJI_M600_mdo.xml')\n",
    "shutil.copy(OUTPUT_FILE, DJI_M600_OUTPUT_FILE)"
   ]
  },
  {
   "cell_type": "markdown",
   "metadata": {},
   "source": [
    "The `optimizer_viewer` offers a convenient summary of the optimization result. If design variables or constraints have active bounds they are yellow whereas they are red if they are violated."
   ]
  },
  {
   "cell_type": "code",
   "execution_count": null,
   "metadata": {},
   "outputs": [],
   "source": [
    "oad.optimization_viewer(CONFIGURATION_FILE)"
   ]
  },
  {
   "cell_type": "markdown",
   "metadata": {},
   "source": [
    "You can use the `VariableViewer` tool to see the optimization results for all variables of the system by loading the .xml output file:"
   ]
  },
  {
   "cell_type": "code",
   "execution_count": null,
   "metadata": {},
   "outputs": [],
   "source": [
    "oad.variable_viewer(OUTPUT_FILE)"
   ]
  },
  {
   "cell_type": "markdown",
   "metadata": {},
   "source": [
    "## 3. Analysis and plots\n",
    "\n",
    "You can now use postprocessing plots to visualize the results of the MDO."
   ]
  },
  {
   "cell_type": "code",
   "execution_count": null,
   "metadata": {},
   "outputs": [],
   "source": [
    "fig = multirotor_geometry_plot(DJI_M600_OUTPUT_FILE, name=\"Drone MDO\")\n",
    "fig.show()"
   ]
  },
  {
   "cell_type": "code",
   "execution_count": null,
   "metadata": {},
   "outputs": [],
   "source": [
    "fig = mass_breakdown_sun_plot_drone(DJI_M600_OUTPUT_FILE)\n",
    "fig.show()"
   ]
  },
  {
   "cell_type": "code",
   "execution_count": null,
   "metadata": {},
   "outputs": [],
   "source": []
  },
  {
   "cell_type": "code",
   "execution_count": null,
   "metadata": {},
   "outputs": [],
   "source": []
  },
  {
   "cell_type": "code",
   "execution_count": null,
   "metadata": {},
   "outputs": [],
   "source": []
  },
  {
   "cell_type": "code",
   "execution_count": null,
   "metadata": {},
   "outputs": [],
   "source": []
  },
  {
   "cell_type": "code",
   "execution_count": null,
   "metadata": {},
   "outputs": [],
   "source": []
  }
 ],
 "metadata": {
  "kernelspec": {
   "display_name": "Python 3 (ipykernel)",
   "language": "python",
   "name": "python3"
  },
  "language_info": {
   "codemirror_mode": {
    "name": "ipython",
    "version": 3
   },
   "file_extension": ".py",
   "mimetype": "text/x-python",
   "name": "python",
   "nbconvert_exporter": "python",
   "pygments_lexer": "ipython3",
   "version": "3.8.16"
  }
 },
 "nbformat": 4,
 "nbformat_minor": 4
}
