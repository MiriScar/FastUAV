{
 "cells": [
  {
   "cell_type": "markdown",
   "metadata": {},
   "source": [
    "# FAST-UAV - Multirotor Design Optimization"
   ]
  },
  {
   "cell_type": "markdown",
   "metadata": {},
   "source": [
    "[FAST-OAD](https://fast-oad.readthedocs.io) is a framework for performing rapid Overall Aircraft Design. The computational core of FAST-OAD is based on the  [OpenMDAO framework](https://openmdao.org/). <br>\n",
    "FAST-UAV is the drone declination of FAST-OAD."
   ]
  },
  {
   "cell_type": "markdown",
   "metadata": {},
   "source": [
    "## 1. Setting up and analyzing the initial problem"
   ]
  },
  {
   "cell_type": "markdown",
   "metadata": {},
   "source": [
    "To organize our work, we propose to use two user folders `data/` and `workdir/`. For instance, in `data/` we store a XML file which describes the [DJI Matrice 600 Pro](https://www.dji.com/matrice600-pro) multicopter. In `workdir/`, we store files generated or modified by FAST-UAV."
   ]
  },
  {
   "cell_type": "code",
   "execution_count": 1,
   "metadata": {},
   "outputs": [
    {
     "name": "stderr",
     "output_type": "stream",
     "text": [
      "C:\\Users\\fastuav\\AppData\\Local\\Temp\\ipykernel_3112\\3363060866.py:24: DeprecationWarning: Importing display from IPython.core.display is deprecated since IPython 7.14, please import from IPython display\n",
      "  from IPython.core.display import display, HTML\n"
     ]
    },
    {
     "data": {
      "text/html": [
       "<style>.container { width:95% !important; }</style>"
      ],
      "text/plain": [
       "<IPython.core.display.HTML object>"
      ]
     },
     "metadata": {},
     "output_type": "display_data"
    }
   ],
   "source": [
    "import os.path as pth\n",
    "import openmdao.api as om\n",
    "import logging\n",
    "import shutil\n",
    "import fastoad.api as oad\n",
    "from time import time\n",
    "import matplotlib.pyplot as plt\n",
    "from fastuav.utils.postprocessing.analysis_and_plots import *\n",
    "\n",
    "plt.rcParams[\"figure.figsize\"] = 16, 8\n",
    "plt.rcParams.update({\"font.size\": 13})\n",
    "\n",
    "DATA_FOLDER_PATH = \"../data\"\n",
    "CONFIGURATIONS_FOLDER_PATH = \"../configurations\"\n",
    "WORK_FOLDER_PATH = \"./workdir\"\n",
    "\n",
    "CONFIGURATION_FILE = pth.join(WORK_FOLDER_PATH, \"multirotor_mdo.yaml\")\n",
    "SOURCE_FILE = pth.join(DATA_FOLDER_PATH, \"problem_inputs_DJI_M600.xml\")\n",
    "\n",
    "# For having log messages display on screen\n",
    "#logging.basicConfig(level=logging.INFO, format=\"%(levelname)-8s: %(message)s\")\n",
    "\n",
    "# For using all screen width\n",
    "from IPython.display import display, HTML\n",
    "\n",
    "display(HTML(\"<style>.container { width:95% !important; }</style>\"))"
   ]
  },
  {
   "cell_type": "code",
   "execution_count": 2,
   "metadata": {},
   "outputs": [
    {
     "name": "stderr",
     "output_type": "stream",
     "text": [
      "INFO    : Loading FAST-OAD plugin uav\n",
      "INFO    : Loading bundles from fastuav.models\n",
      "INFO    : Installed bundle fastuav.models.mtow.mtow (ID 20 )\n",
      "INFO    : Installed bundle fastuav.models.structures.wing.structural_analysis (ID 105 )\n",
      "INFO    : Installed bundle fastuav.models.propulsion.motor.definition_parameters (ID 56 )\n",
      "INFO    : Installed bundle fastuav.models.stability.static_longitudinal.static_margin (ID 95 )\n",
      "INFO    : Installed bundle fastuav.models.structures.wing.__init__ (ID 107 )\n",
      "INFO    : Installed bundle fastuav.models.aerodynamics.aerodynamics_fixedwing (ID 12 )\n",
      "INFO    : Installed bundle fastuav.models.mtow.mtow_fixedwing (ID 21 )\n",
      "INFO    : Installed bundle fastuav.models.propulsion.motor.motor (ID 58 )\n",
      "INFO    : Installed bundle fastuav.models.propulsion.propeller.estimation_models (ID 66 )\n",
      "INFO    : Installed bundle fastuav.models.structures.fuselage (ID 98 )\n",
      "INFO    : Installed bundle fastuav.models.propulsion.propeller.propeller (ID 68 )\n",
      "INFO    : Installed bundle fastuav.models.stability.static_longitudinal.__init__ (ID 96 )\n",
      "INFO    : Installed bundle fastuav.models.structures.__init__ (ID 108 )\n",
      "INFO    : Installed bundle fastuav.models.mtow.mtow_hybrid (ID 22 )\n",
      "INFO    : Installed bundle fastuav.models.propulsion.propeller.performance_analysis (ID 67 )\n",
      "INFO    : Installed bundle fastuav.models.aerodynamics.aerodynamics_hybrid (ID 13 )\n",
      "INFO    : Installed bundle fastuav.models.propulsion.propeller.__init__ (ID 69 )\n",
      "INFO    : Installed bundle fastuav.models.stability.__init__ (ID 97 )\n",
      "INFO    : Installed bundle fastuav.models.aerodynamics.__init__ (ID 15 )\n",
      "INFO    : Installed bundle fastuav.models.mtow.mtow_multirotor (ID 23 )\n",
      "INFO    : Installed bundle fastuav.models.propulsion.propulsion (ID 70 )\n",
      "INFO    : Installed bundle fastuav.models.aerodynamics.aerodynamics_multirotor (ID 14 )\n",
      "INFO    : Installed bundle fastuav.models.mtow.__init__ (ID 24 )\n",
      "INFO    : Installed bundle fastuav.models.propulsion.energy.battery.battery (ID 37 )\n",
      "INFO    : Installed bundle fastuav.models.propulsion.propeller.catalogue (ID 63 )\n",
      "INFO    : Installed bundle fastuav.models.propulsion.propulsion_hybrid (ID 72 )\n",
      "INFO    : Installed bundle fastuav.models.propulsion.propulsion_fixedwing (ID 71 )\n",
      "INFO    : Installed bundle fastuav.models.wires.wires (ID 109 )\n",
      "INFO    : Installed bundle fastuav.models.propulsion.energy.battery.catalogue (ID 38 )\n",
      "INFO    : Installed bundle fastuav.models.propulsion.esc.esc (ID 48 )\n",
      "INFO    : Installed bundle fastuav.models.propulsion.__init__ (ID 74 )\n",
      "INFO    : Installed bundle fastuav.models.propulsion.propulsion_multirotor (ID 73 )\n",
      "INFO    : Installed bundle fastuav.models.wires.wires_fixedwing (ID 110 )\n",
      "INFO    : Installed bundle fastuav.models.performance.mission.mission_builder (ID 26 )\n",
      "INFO    : Installed bundle fastuav.models.propulsion.esc.constraints (ID 46 )\n",
      "INFO    : Installed bundle fastuav.models.propulsion.energy.battery.constraints (ID 39 )\n",
      "INFO    : Installed bundle fastuav.models.scenarios.scenarios_fixedwing (ID 75 )\n",
      "INFO    : Installed bundle fastuav.models.propulsion.energy.battery.definition_parameters (ID 40 )\n",
      "INFO    : Installed bundle fastuav.models.propulsion.esc.catalogue (ID 45 )\n",
      "INFO    : Installed bundle fastuav.models.propulsion.propeller.constraints (ID 64 )\n",
      "INFO    : Installed bundle fastuav.models.wires.wires_hybrid (ID 111 )\n",
      "INFO    : Installed bundle fastuav.models.performance.mission.mission_definition.resources.__init__ (ID 27 )\n",
      "INFO    : Installed bundle fastuav.models.wires.wires_multirotor (ID 112 )\n",
      "INFO    : Installed bundle fastuav.models.__init__ (ID 114 )\n",
      "INFO    : Installed bundle fastuav.models.performance.mission.mission_definition.tests.test_schema (ID 29 )\n",
      "INFO    : Installed bundle fastuav.models.propulsion.energy.battery.estimation_models (ID 41 )\n",
      "INFO    : Installed bundle fastuav.models.propulsion.motor.estimation_models (ID 57 )\n",
      "INFO    : Installed bundle fastuav.models.propulsion.esc.definition_parameters (ID 47 )\n",
      "INFO    : Installed bundle fastuav.models.wires.__init__ (ID 113 )\n",
      "INFO    : Installed bundle fastuav.models.performance.mission.mission_definition.schema (ID 28 )\n",
      "INFO    : Installed bundle fastuav.models.propulsion.energy.battery.performance_analysis (ID 42 )\n",
      "INFO    : Installed bundle fastuav.models.propulsion.motor.__init__ (ID 60 )\n",
      "INFO    : Installed bundle fastuav.models.performance.mission.flight_performance (ID 25 )\n",
      "INFO    : Installed bundle fastuav.models.propulsion.energy.__init__ (ID 44 )\n",
      "INFO    : Installed bundle fastuav.models.propulsion.motor.performance_analysis (ID 59 )\n",
      "INFO    : Installed bundle fastuav.models.propulsion.energy.battery.__init__ (ID 43 )\n",
      "INFO    : Installed bundle fastuav.models.add_ons.sample_discipline (ID 10 )\n",
      "INFO    : Installed bundle fastuav.models.propulsion.propeller.aerodynamics.surrogate_models (ID 61 )\n",
      "INFO    : Installed bundle fastuav.models.scenarios.scenarios_multirotor (ID 77 )\n",
      "INFO    : Installed bundle fastuav.models.performance.mission.mission_definition.tests.__init__ (ID 30 )\n",
      "INFO    : Installed bundle fastuav.models.propulsion.esc.estimation_models (ID 49 )\n",
      "INFO    : Installed bundle fastuav.models.scenarios.scenarios_hybrid (ID 76 )\n",
      "INFO    : Installed bundle fastuav.models.add_ons.__init__ (ID 11 )\n",
      "INFO    : Installed bundle fastuav.models.geometry.geometry_fixedwing (ID 16 )\n",
      "INFO    : Installed bundle fastuav.models.propulsion.esc.__init__ (ID 51 )\n",
      "INFO    : Installed bundle fastuav.models.scenarios.thrust.cruise (ID 79 )\n",
      "INFO    : Installed bundle fastuav.models.stability.stability_fixedwing (ID 87 )\n",
      "INFO    : Installed bundle fastuav.models.performance.mission.mission_definition.__init__ (ID 31 )\n",
      "INFO    : Installed bundle fastuav.models.propulsion.esc.performance_analysis (ID 50 )\n",
      "INFO    : Installed bundle fastuav.models.propulsion.motor.catalogue (ID 54 )\n",
      "INFO    : Installed bundle fastuav.models.propulsion.propeller.aerodynamics.__init__ (ID 62 )\n",
      "INFO    : Installed bundle fastuav.models.scenarios.thrust.climb (ID 78 )\n",
      "INFO    : Installed bundle fastuav.models.stability.stability_hybrid (ID 88 )\n",
      "INFO    : Installed bundle fastuav.models.scenarios.thrust.hover (ID 81 )\n",
      "INFO    : Installed bundle fastuav.models.propulsion.gearbox.gearbox (ID 52 )\n",
      "INFO    : Installed bundle fastuav.models.scenarios.thrust.flight_models (ID 80 )\n",
      "INFO    : Installed bundle fastuav.models.structures.structures_fixedwing (ID 99 )\n",
      "INFO    : Installed bundle fastuav.models.structures.wing.wing (ID 106 )\n",
      "INFO    : Installed bundle fastuav.models.geometry.geometry_hybrid (ID 17 )\n",
      "INFO    : Installed bundle fastuav.models.performance.mission.phase_builder (ID 32 )\n",
      "INFO    : Installed bundle fastuav.models.propulsion.motor.constraints (ID 55 )\n",
      "INFO    : Installed bundle fastuav.models.scenarios.thrust.takeoff (ID 82 )\n",
      "INFO    : Installed bundle fastuav.models.stability.static_longitudinal.center_of_gravity.cog (ID 89 )\n",
      "INFO    : Installed bundle fastuav.models.structures.structures_hybrid (ID 100 )\n",
      "INFO    : Installed bundle fastuav.models.performance.mission.__init__ (ID 34 )\n",
      "INFO    : Installed bundle fastuav.models.propulsion.gearbox.__init__ (ID 53 )\n",
      "INFO    : Installed bundle fastuav.models.scenarios.thrust.__init__ (ID 83 )\n",
      "INFO    : Installed bundle fastuav.models.stability.static_longitudinal.center_of_gravity.components.cog_airframe (ID 90 )\n",
      "INFO    : Installed bundle fastuav.models.structures.tails (ID 102 )\n",
      "INFO    : Installed bundle fastuav.models.performance.mission.route_builder (ID 33 )\n",
      "INFO    : Installed bundle fastuav.models.scenarios.wing_loading.__init__ (ID 85 )\n",
      "INFO    : Installed bundle fastuav.models.stability.static_longitudinal.center_of_gravity.components.cog_propulsion (ID 91 )\n",
      "INFO    : Installed bundle fastuav.models.structures.structures_multirotor (ID 101 )\n",
      "INFO    : Installed bundle fastuav.models.geometry.geometry_multirotor (ID 18 )\n",
      "INFO    : Installed bundle fastuav.models.performance.__init__ (ID 36 )\n",
      "INFO    : Installed bundle fastuav.models.stability.static_longitudinal.center_of_gravity.components.__init__ (ID 92 )\n",
      "INFO    : Installed bundle fastuav.models.structures.wing.constraints (ID 103 )\n",
      "INFO    : Installed bundle fastuav.models.propulsion.propeller.definition_parameters (ID 65 )\n"
     ]
    },
    {
     "name": "stderr",
     "output_type": "stream",
     "text": [
      "INFO    : Installed bundle fastuav.models.scenarios.wing_loading.wing_loading (ID 84 )\n",
      "INFO    : Installed bundle fastuav.models.stability.static_longitudinal.center_of_gravity.__init__ (ID 93 )\n",
      "INFO    : Installed bundle fastuav.models.geometry.__init__ (ID 19 )\n",
      "INFO    : Installed bundle fastuav.models.performance.range_and_endurance (ID 35 )\n",
      "INFO    : Installed bundle fastuav.models.structures.wing.estimation_models (ID 104 )\n",
      "INFO    : Installed bundle fastuav.models.stability.static_longitudinal.neutral_point (ID 94 )\n",
      "INFO    : Installed bundle fastuav.models.scenarios.__init__ (ID 86 )\n",
      "INFO    : Loaded variable descriptions in fastuav.models\n",
      "INFO    : Loading FAST-OAD plugin bundled\n",
      "INFO    : Loading bundles from fastoad.models\n",
      "INFO    : Installed bundle fastoad.models.performances.mission.polar (ID 132 )\n",
      "INFO    : Installed bundle fastoad.models.performances.mission.segments.__init__ (ID 143 )\n",
      "INFO    : Installed bundle fastoad.models.performances.mission.mission_definition.schema (ID 124 )\n",
      "INFO    : Installed bundle fastoad.models.performances.mission.util (ID 144 )\n",
      "INFO    : Installed bundle fastoad.models.performances.mission.base (ID 115 )\n",
      "INFO    : Installed bundle fastoad.models.performances.mission.segments.cruise (ID 136 )\n",
      "INFO    : Installed bundle fastoad.models.performances.mission.openmdao.__init__ (ID 131 )\n",
      "INFO    : Installed bundle fastoad.models.performances.mission.mission_definition.__init__ (ID 125 )\n",
      "INFO    : Installed bundle fastoad.models.performances.mission.exceptions (ID 116 )\n",
      "INFO    : Installed bundle fastoad.models.performances.mission.segments.taxi (ID 141 )\n",
      "INFO    : Installed bundle fastoad.models.performances.mission.segments.speed_change (ID 139 )\n",
      "INFO    : Installed bundle fastoad.models.performances.mission.segments.transition (ID 142 )\n",
      "INFO    : Installed bundle fastoad.models.performances.mission.openmdao.mission (ID 127 )\n",
      "INFO    : Installed bundle fastoad.models.__init__ (ID 147 )\n",
      "INFO    : Installed bundle fastoad.models.performances.mission.mission_definition.mission_builder.structure_builders (ID 121 )\n",
      "INFO    : Installed bundle fastoad.models.performances.mission.openmdao.resources.__init__ (ID 130 )\n",
      "INFO    : Installed bundle fastoad.models.performances.mission.openmdao.mission_component (ID 128 )\n",
      "INFO    : Installed bundle fastoad.models.performances.mission.mission_definition.mission_builder.__init__ (ID 122 )\n",
      "INFO    : Installed bundle fastoad.models.performances.__init__ (ID 146 )\n",
      "INFO    : Installed bundle fastoad.models.performances.mission.mission_definition.resources.__init__ (ID 123 )\n",
      "INFO    : Installed bundle fastoad.models.performances.mission.segments.start (ID 140 )\n",
      "INFO    : Installed bundle fastoad.models.performances.mission.mission_definition.mission_builder.constants (ID 118 )\n",
      "INFO    : Installed bundle fastoad.models.performances.mission.openmdao.mission_wrapper (ID 129 )\n",
      "INFO    : Installed bundle fastoad.models.performances.mission.mission_definition.mission_builder.input_definition (ID 119 )\n",
      "INFO    : Installed bundle fastoad.models.performances.mission.mission_definition.mission_builder.mission_builder (ID 120 )\n",
      "INFO    : Installed bundle fastoad.models.performances.mission.openmdao.link_mtow (ID 126 )\n",
      "INFO    : Installed bundle fastoad.models.performances.mission.segments.mass_input (ID 138 )\n",
      "INFO    : Installed bundle fastoad.models.performances.mission.__init__ (ID 145 )\n",
      "INFO    : Installed bundle fastoad.models.performances.mission.segments.hold (ID 137 )\n",
      "INFO    : Installed bundle fastoad.models.performances.mission.segments.base (ID 135 )\n",
      "INFO    : Installed bundle fastoad.models.performances.mission.routes (ID 133 )\n",
      "INFO    : Installed bundle fastoad.models.performances.mission.segments.altitude_change (ID 134 )\n",
      "INFO    : Installed bundle fastoad.models.performances.mission.mission_definition.exceptions (ID 117 )\n",
      "INFO    : Loaded variable descriptions in fastoad.models\n",
      "INFO    : Sample configuration written in \"C:\\Users\\fastuav\\Documents\\FAST-UAV\\src\\fastuav\\notebooks\\workdir\\multirotor_mdo.yaml\".\n"
     ]
    },
    {
     "data": {
      "text/plain": [
       "'C:\\\\Users\\\\fastuav\\\\Documents\\\\FAST-UAV\\\\src\\\\fastuav\\\\notebooks\\\\workdir\\\\multirotor_mdo.yaml'"
      ]
     },
     "execution_count": 2,
     "metadata": {},
     "output_type": "execute_result"
    }
   ],
   "source": [
    "oad.generate_configuration_file(\n",
    "    CONFIGURATION_FILE, overwrite=True, distribution_name=\"fastuav\", sample_file_name=\"multirotor_mdo.yaml\"\n",
    ")"
   ]
  },
  {
   "cell_type": "markdown",
   "metadata": {},
   "source": [
    "The YAML configuration file located in the data folder defines the design problem, i.e. the model, the problem driver and the optimization problem definition.<br>\n",
    "A useful feature is the [N2 diagram](http://openmdao.org/twodocs/versions/latest/basic_guide/make_n2.html) visualization available in OpenMDAO to see the structure of the model:"
   ]
  },
  {
   "cell_type": "code",
   "execution_count": 3,
   "metadata": {
    "tags": []
   },
   "outputs": [
    {
     "ename": "ScannerError",
     "evalue": "mapping values are not allowed in this context\n  in \"C:\\Users\\fastuav\\Documents\\FAST-UAV\\src\\fastuav\\notebooks\\workdir\\multirotor_mdo.yaml\", line 31, column 16",
     "output_type": "error",
     "traceback": [
      "\u001b[1;31m---------------------------------------------------------------------------\u001b[0m",
      "\u001b[1;31mScannerError\u001b[0m                              Traceback (most recent call last)",
      "Cell \u001b[1;32mIn[3], line 2\u001b[0m\n\u001b[0;32m      1\u001b[0m N2_FILE \u001b[38;5;241m=\u001b[39m pth\u001b[38;5;241m.\u001b[39mjoin(WORK_FOLDER_PATH, \u001b[38;5;124m\"\u001b[39m\u001b[38;5;124mn2.html\u001b[39m\u001b[38;5;124m\"\u001b[39m)\n\u001b[1;32m----> 2\u001b[0m \u001b[43moad\u001b[49m\u001b[38;5;241;43m.\u001b[39;49m\u001b[43mwrite_n2\u001b[49m\u001b[43m(\u001b[49m\u001b[43mCONFIGURATION_FILE\u001b[49m\u001b[43m,\u001b[49m\u001b[43m \u001b[49m\u001b[43mN2_FILE\u001b[49m\u001b[43m,\u001b[49m\u001b[43m \u001b[49m\u001b[43moverwrite\u001b[49m\u001b[38;5;241;43m=\u001b[39;49m\u001b[38;5;28;43;01mTrue\u001b[39;49;00m\u001b[43m)\u001b[49m\n\u001b[0;32m      3\u001b[0m \u001b[38;5;28;01mfrom\u001b[39;00m \u001b[38;5;21;01mIPython\u001b[39;00m\u001b[38;5;21;01m.\u001b[39;00m\u001b[38;5;21;01mdisplay\u001b[39;00m \u001b[38;5;28;01mimport\u001b[39;00m IFrame\n\u001b[0;32m      4\u001b[0m IFrame(src\u001b[38;5;241m=\u001b[39mN2_FILE, width\u001b[38;5;241m=\u001b[39m\u001b[38;5;124m\"\u001b[39m\u001b[38;5;124m100\u001b[39m\u001b[38;5;124m%\u001b[39m\u001b[38;5;124m\"\u001b[39m, height\u001b[38;5;241m=\u001b[39m\u001b[38;5;124m\"\u001b[39m\u001b[38;5;124m500px\u001b[39m\u001b[38;5;124m\"\u001b[39m)\n",
      "File \u001b[1;32m~\\.conda\\envs\\fastuav\\lib\\site-packages\\fastoad\\cmd\\api.py:509\u001b[0m, in \u001b[0;36mwrite_n2\u001b[1;34m(configuration_file_path, n2_file_path, overwrite)\u001b[0m\n\u001b[0;32m    502\u001b[0m     \u001b[38;5;28;01mraise\u001b[39;00m FastPathExistsError(\n\u001b[0;32m    503\u001b[0m         \u001b[38;5;124mf\u001b[39m\u001b[38;5;124m\"\u001b[39m\u001b[38;5;124mN2-diagram file \u001b[39m\u001b[38;5;132;01m{\u001b[39;00mn2_file_path\u001b[38;5;132;01m}\u001b[39;00m\u001b[38;5;124m not written because it already exists. \u001b[39m\u001b[38;5;124m\"\u001b[39m\n\u001b[0;32m    504\u001b[0m         \u001b[38;5;124m\"\u001b[39m\u001b[38;5;124mUse overwrite=True to bypass.\u001b[39m\u001b[38;5;124m\"\u001b[39m,\n\u001b[0;32m    505\u001b[0m         n2_file_path,\n\u001b[0;32m    506\u001b[0m     )\n\u001b[0;32m    508\u001b[0m make_parent_dir(n2_file_path)\n\u001b[1;32m--> 509\u001b[0m conf \u001b[38;5;241m=\u001b[39m \u001b[43mFASTOADProblemConfigurator\u001b[49m\u001b[43m(\u001b[49m\u001b[43mconfiguration_file_path\u001b[49m\u001b[43m)\u001b[49m\n\u001b[0;32m    510\u001b[0m conf\u001b[38;5;241m.\u001b[39m_set_configuration_modifier(_PROBLEM_CONFIGURATOR)\n\u001b[0;32m    511\u001b[0m problem \u001b[38;5;241m=\u001b[39m conf\u001b[38;5;241m.\u001b[39mget_problem()\n",
      "File \u001b[1;32m~\\.conda\\envs\\fastuav\\lib\\site-packages\\fastoad\\io\\configuration\\configuration.py:77\u001b[0m, in \u001b[0;36mFASTOADProblemConfigurator.__init__\u001b[1;34m(self, conf_file_path)\u001b[0m\n\u001b[0;32m     74\u001b[0m \u001b[38;5;28mself\u001b[39m\u001b[38;5;241m.\u001b[39m_configuration_modifier: \u001b[38;5;124m\"\u001b[39m\u001b[38;5;124m_IConfigurationModifier\u001b[39m\u001b[38;5;124m\"\u001b[39m \u001b[38;5;241m=\u001b[39m \u001b[38;5;28;01mNone\u001b[39;00m\n\u001b[0;32m     76\u001b[0m \u001b[38;5;28;01mif\u001b[39;00m conf_file_path:\n\u001b[1;32m---> 77\u001b[0m     \u001b[38;5;28;43mself\u001b[39;49m\u001b[38;5;241;43m.\u001b[39;49m\u001b[43mload\u001b[49m\u001b[43m(\u001b[49m\u001b[43mconf_file_path\u001b[49m\u001b[43m)\u001b[49m\n",
      "File \u001b[1;32m~\\.conda\\envs\\fastuav\\lib\\site-packages\\fastoad\\io\\configuration\\configuration.py:157\u001b[0m, in \u001b[0;36mFASTOADProblemConfigurator.load\u001b[1;34m(self, conf_file)\u001b[0m\n\u001b[0;32m    155\u001b[0m \u001b[38;5;28;01melse\u001b[39;00m:\n\u001b[0;32m    156\u001b[0m     \u001b[38;5;28mself\u001b[39m\u001b[38;5;241m.\u001b[39m_serializer \u001b[38;5;241m=\u001b[39m _YAMLSerializer()\n\u001b[1;32m--> 157\u001b[0m \u001b[38;5;28;43mself\u001b[39;49m\u001b[38;5;241;43m.\u001b[39;49m\u001b[43m_serializer\u001b[49m\u001b[38;5;241;43m.\u001b[39;49m\u001b[43mread\u001b[49m\u001b[43m(\u001b[49m\u001b[38;5;28;43mself\u001b[39;49m\u001b[38;5;241;43m.\u001b[39;49m\u001b[43m_conf_file\u001b[49m\u001b[43m)\u001b[49m\n\u001b[0;32m    159\u001b[0m \u001b[38;5;66;03m# Syntax validation\u001b[39;00m\n\u001b[0;32m    160\u001b[0m \u001b[38;5;28;01mwith\u001b[39;00m open_text(resources, JSON_SCHEMA_NAME) \u001b[38;5;28;01mas\u001b[39;00m json_file:\n",
      "File \u001b[1;32m~\\.conda\\envs\\fastuav\\lib\\site-packages\\fastoad\\io\\configuration\\configuration.py:494\u001b[0m, in \u001b[0;36m_YAMLSerializer.read\u001b[1;34m(self, file_path)\u001b[0m\n\u001b[0;32m    492\u001b[0m yaml \u001b[38;5;241m=\u001b[39m YAML(typ\u001b[38;5;241m=\u001b[39m\u001b[38;5;124m\"\u001b[39m\u001b[38;5;124msafe\u001b[39m\u001b[38;5;124m\"\u001b[39m)\n\u001b[0;32m    493\u001b[0m \u001b[38;5;28;01mwith\u001b[39;00m \u001b[38;5;28mopen\u001b[39m(file_path) \u001b[38;5;28;01mas\u001b[39;00m yaml_file:\n\u001b[1;32m--> 494\u001b[0m     \u001b[38;5;28mself\u001b[39m\u001b[38;5;241m.\u001b[39m_data \u001b[38;5;241m=\u001b[39m \u001b[43myaml\u001b[49m\u001b[38;5;241;43m.\u001b[39;49m\u001b[43mload\u001b[49m\u001b[43m(\u001b[49m\u001b[43myaml_file\u001b[49m\u001b[43m)\u001b[49m\n",
      "File \u001b[1;32m~\\.conda\\envs\\fastuav\\lib\\site-packages\\ruamel\\yaml\\main.py:434\u001b[0m, in \u001b[0;36mYAML.load\u001b[1;34m(self, stream)\u001b[0m\n\u001b[0;32m    432\u001b[0m constructor, parser \u001b[38;5;241m=\u001b[39m \u001b[38;5;28mself\u001b[39m\u001b[38;5;241m.\u001b[39mget_constructor_parser(stream)\n\u001b[0;32m    433\u001b[0m \u001b[38;5;28;01mtry\u001b[39;00m:\n\u001b[1;32m--> 434\u001b[0m     \u001b[38;5;28;01mreturn\u001b[39;00m \u001b[43mconstructor\u001b[49m\u001b[38;5;241;43m.\u001b[39;49m\u001b[43mget_single_data\u001b[49m\u001b[43m(\u001b[49m\u001b[43m)\u001b[49m\n\u001b[0;32m    435\u001b[0m \u001b[38;5;28;01mfinally\u001b[39;00m:\n\u001b[0;32m    436\u001b[0m     parser\u001b[38;5;241m.\u001b[39mdispose()\n",
      "File \u001b[1;32m~\\.conda\\envs\\fastuav\\lib\\site-packages\\ruamel\\yaml\\constructor.py:119\u001b[0m, in \u001b[0;36mBaseConstructor.get_single_data\u001b[1;34m(self)\u001b[0m\n\u001b[0;32m    116\u001b[0m \u001b[38;5;28;01mdef\u001b[39;00m \u001b[38;5;21mget_single_data\u001b[39m(\u001b[38;5;28mself\u001b[39m):\n\u001b[0;32m    117\u001b[0m     \u001b[38;5;66;03m# type: () -> Any\u001b[39;00m\n\u001b[0;32m    118\u001b[0m     \u001b[38;5;66;03m# Ensure that the stream contains a single document and construct it.\u001b[39;00m\n\u001b[1;32m--> 119\u001b[0m     node \u001b[38;5;241m=\u001b[39m \u001b[38;5;28;43mself\u001b[39;49m\u001b[38;5;241;43m.\u001b[39;49m\u001b[43mcomposer\u001b[49m\u001b[38;5;241;43m.\u001b[39;49m\u001b[43mget_single_node\u001b[49m\u001b[43m(\u001b[49m\u001b[43m)\u001b[49m\n\u001b[0;32m    120\u001b[0m     \u001b[38;5;28;01mif\u001b[39;00m node \u001b[38;5;129;01mis\u001b[39;00m \u001b[38;5;129;01mnot\u001b[39;00m \u001b[38;5;28;01mNone\u001b[39;00m:\n\u001b[0;32m    121\u001b[0m         \u001b[38;5;28;01mreturn\u001b[39;00m \u001b[38;5;28mself\u001b[39m\u001b[38;5;241m.\u001b[39mconstruct_document(node)\n",
      "File \u001b[1;32m_ruamel_yaml.pyx:706\u001b[0m, in \u001b[0;36m_ruamel_yaml.CParser.get_single_node\u001b[1;34m()\u001b[0m\n",
      "File \u001b[1;32m_ruamel_yaml.pyx:724\u001b[0m, in \u001b[0;36m_ruamel_yaml.CParser._compose_document\u001b[1;34m()\u001b[0m\n",
      "File \u001b[1;32m_ruamel_yaml.pyx:775\u001b[0m, in \u001b[0;36m_ruamel_yaml.CParser._compose_node\u001b[1;34m()\u001b[0m\n",
      "File \u001b[1;32m_ruamel_yaml.pyx:889\u001b[0m, in \u001b[0;36m_ruamel_yaml.CParser._compose_mapping_node\u001b[1;34m()\u001b[0m\n",
      "File \u001b[1;32m_ruamel_yaml.pyx:775\u001b[0m, in \u001b[0;36m_ruamel_yaml.CParser._compose_node\u001b[1;34m()\u001b[0m\n",
      "File \u001b[1;32m_ruamel_yaml.pyx:889\u001b[0m, in \u001b[0;36m_ruamel_yaml.CParser._compose_mapping_node\u001b[1;34m()\u001b[0m\n",
      "File \u001b[1;32m_ruamel_yaml.pyx:775\u001b[0m, in \u001b[0;36m_ruamel_yaml.CParser._compose_node\u001b[1;34m()\u001b[0m\n",
      "File \u001b[1;32m_ruamel_yaml.pyx:889\u001b[0m, in \u001b[0;36m_ruamel_yaml.CParser._compose_mapping_node\u001b[1;34m()\u001b[0m\n",
      "File \u001b[1;32m_ruamel_yaml.pyx:775\u001b[0m, in \u001b[0;36m_ruamel_yaml.CParser._compose_node\u001b[1;34m()\u001b[0m\n",
      "File \u001b[1;32m_ruamel_yaml.pyx:891\u001b[0m, in \u001b[0;36m_ruamel_yaml.CParser._compose_mapping_node\u001b[1;34m()\u001b[0m\n",
      "File \u001b[1;32m_ruamel_yaml.pyx:904\u001b[0m, in \u001b[0;36m_ruamel_yaml.CParser._parse_next_event\u001b[1;34m()\u001b[0m\n",
      "\u001b[1;31mScannerError\u001b[0m: mapping values are not allowed in this context\n  in \"C:\\Users\\fastuav\\Documents\\FAST-UAV\\src\\fastuav\\notebooks\\workdir\\multirotor_mdo.yaml\", line 31, column 16"
     ]
    }
   ],
   "source": [
    "N2_FILE = pth.join(WORK_FOLDER_PATH, \"n2.html\")\n",
    "oad.write_n2(CONFIGURATION_FILE, N2_FILE, overwrite=True)\n",
    "from IPython.display import IFrame\n",
    "IFrame(src=N2_FILE, width=\"100%\", height=\"500px\")"
   ]
  },
  {
   "cell_type": "markdown",
   "metadata": {
    "tags": []
   },
   "source": [
    "In the configuration file, we have specified an input file name 'problem_inputs.xml'. We can ask FAST-UAV to generate the inputs of the model with the reference parameters from 'problem_inputs_DJI_M600.xml' as default values:"
   ]
  },
  {
   "cell_type": "code",
   "execution_count": null,
   "metadata": {},
   "outputs": [],
   "source": [
    "oad.generate_inputs(CONFIGURATION_FILE, SOURCE_FILE, overwrite=True)"
   ]
  },
  {
   "cell_type": "markdown",
   "metadata": {},
   "source": [
    "You can now checkout the generated [input file](./workdir/problem_inputs.xml). The values in this file can be modified by the user and will be considered by FAST-UAV when executing a computational process.<br>\n",
    "The `variable-viewer` provides a way to inspect and modify the content of the XML file. The dropdown lists above the table allow to filter the displayed variable."
   ]
  },
  {
   "cell_type": "code",
   "execution_count": null,
   "metadata": {},
   "outputs": [],
   "source": [
    "INPUT_FILE = pth.join(WORK_FOLDER_PATH, \"problem_inputs.xml\")\n",
    "oad.variable_viewer(INPUT_FILE)"
   ]
  },
  {
   "cell_type": "markdown",
   "metadata": {},
   "source": [
    "## 2. Running an MDO\n",
    "\n",
    "You can now run an optimization problem. The last part of the configuration file .yaml is where this optimization problem is defined:\n",
    "\n",
    "```yaml\n",
    "optimization:\n",
    "  design_variables:\n",
    "    - name: data:weights:mtow:k # over estimation coefficient on the load mass\n",
    "      upper: 40.0\n",
    "      lower: 1.0\n",
    "  constraints:\n",
    "    - name: data:weights:mtow:guess:constraint # mass consistency\n",
    "      lower: 0.0\n",
    "  objective:\n",
    "    - name: data:weights:mtow\n",
    "      scaler: 1e-1\n",
    "```"
   ]
  },
  {
   "cell_type": "code",
   "execution_count": null,
   "metadata": {
    "tags": []
   },
   "outputs": [],
   "source": [
    "optim_problem = oad.optimize_problem(CONFIGURATION_FILE, overwrite=True)"
   ]
  },
  {
   "cell_type": "markdown",
   "metadata": {},
   "source": [
    "Let's save these results:"
   ]
  },
  {
   "cell_type": "code",
   "execution_count": null,
   "metadata": {},
   "outputs": [],
   "source": [
    "OUTPUT_FILE = pth.join(WORK_FOLDER_PATH, \"problem_outputs.xml\")\n",
    "DJI_M600_OUTPUT_FILE = pth.join(DATA_FOLDER_PATH, 'problem_outputs_DJI_M600_mdo.xml')\n",
    "shutil.copy(OUTPUT_FILE, DJI_M600_OUTPUT_FILE)"
   ]
  },
  {
   "cell_type": "markdown",
   "metadata": {},
   "source": [
    "The `optimizer_viewer` offers a convenient summary of the optimization result. If design variables or constraints have active bounds they are yellow whereas they are red if they are violated."
   ]
  },
  {
   "cell_type": "code",
   "execution_count": null,
   "metadata": {},
   "outputs": [],
   "source": [
    "oad.optimization_viewer(CONFIGURATION_FILE)"
   ]
  },
  {
   "cell_type": "markdown",
   "metadata": {},
   "source": [
    "You can use the `VariableViewer` tool to see the optimization results for all variables of the system by loading the .xml output file:"
   ]
  },
  {
   "cell_type": "code",
   "execution_count": null,
   "metadata": {},
   "outputs": [],
   "source": [
    "oad.variable_viewer(OUTPUT_FILE)"
   ]
  },
  {
   "cell_type": "markdown",
   "metadata": {},
   "source": [
    "## 3. Analysis and plots\n",
    "\n",
    "You can now use postprocessing plots to visualize the results of the MDO."
   ]
  },
  {
   "cell_type": "code",
   "execution_count": null,
   "metadata": {},
   "outputs": [],
   "source": [
    "fig = multirotor_geometry_plot(DJI_M600_OUTPUT_FILE, name=\"Drone MDO\")\n",
    "fig.show()"
   ]
  },
  {
   "cell_type": "code",
   "execution_count": null,
   "metadata": {},
   "outputs": [],
   "source": [
    "fig = mass_breakdown_sun_plot_drone(DJI_M600_OUTPUT_FILE)\n",
    "fig.show()"
   ]
  }
 ],
 "metadata": {
  "kernelspec": {
   "display_name": "Python 3 (ipykernel)",
   "language": "python",
   "name": "python3"
  },
  "language_info": {
   "codemirror_mode": {
    "name": "ipython",
    "version": 3
   },
   "file_extension": ".py",
   "mimetype": "text/x-python",
   "name": "python",
   "nbconvert_exporter": "python",
   "pygments_lexer": "ipython3",
   "version": "3.8.16"
  }
 },
 "nbformat": 4,
 "nbformat_minor": 4
}
